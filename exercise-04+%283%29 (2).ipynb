{
 "cells": [
  {
   "cell_type": "markdown",
   "metadata": {},
   "source": [
    "# Exercise 04 - Due Friday, October 21 at 12pm\n",
    "\n",
    "*Objectives*: Gain experience loading a CSV dataset into a database model you define yourself and using SQL to explore its contents. Explore the data by writing and executing a number of SQL queries using common syntax and functions and describing your findings.\n",
    "\n",
    "*Grading criteria*: The tasks should all be completed, and questions should all be answered with SQL queries in the space provided, unless a text answer is requested. Results should be correct, according to the embedded tests. The notebook itself should be completely reproducible; from start to finish, another person should be able to use the same code to obtain the same results as yours.  Note that you will receive no more than partial credit if you do not add text/markdown cells explaining your thinking at each major step in each problem.\n",
    "\n",
    "*Deadline*: Friday, October 21, 12pm. Submit your notebook to Blackboard and push it to your GitHub repository.\n",
    "\n",
    "## Setup - obtain data and create database\n",
    "\n",
    "The US City Open Data Census has data on [restaurant inspections from all over the country](http://us-city.census.okfn.org/dataset/food-safety).  Let's take a look at data from Albuquerque.  *Note*: metadata and other details for this dataset are available at http://data.cabq.gov/business/foodinspections/.\n",
    "\n",
    "Fyi, to save you a step, I've converted this file into a clean CSV file by using the `dos2unix` command to change its line endings and to switch it to use commas instead of tabs using `csvformat -t inputfile.csv > outputfile.csv`.\n",
    "\n",
    "First we download the dataset:"
   ]
  },
  {
   "cell_type": "code",
   "execution_count": 1,
   "metadata": {
    "collapsed": false
   },
   "outputs": [
    {
     "name": "stdout",
     "output_type": "stream",
     "text": [
      "--2016-10-24 16:16:12--  https://raw.githubusercontent.com/gwsb-istm-6212-fall-2016/syllabus-and-schedule/master/exercises/abq-food-inspections-fy2010.csv\n",
      "Resolving raw.githubusercontent.com (raw.githubusercontent.com)... 151.101.32.133\n",
      "Connecting to raw.githubusercontent.com (raw.githubusercontent.com)|151.101.32.133|:443... connected.\n",
      "HTTP request sent, awaiting response... 200 OK\n",
      "Length: 5025226 (4.8M) [text/plain]\n",
      "Saving to: ‘abq-food-inspections-fy2010.csv’\n",
      "\n",
      "abq-food-inspection 100%[=====================>]   4.79M  27.7MB/s   in 0.2s   \n",
      "\n",
      "2016-10-24 16:16:12 (27.7 MB/s) - ‘abq-food-inspections-fy2010.csv’ saved [5025226/5025226]\n",
      "\n"
     ]
    }
   ],
   "source": [
    "!wget https://raw.githubusercontent.com/gwsb-istm-6212-fall-2016/syllabus-and-schedule/master/exercises/abq-food-inspections-fy2010.csv"
   ]
  },
  {
   "cell_type": "markdown",
   "metadata": {},
   "source": [
    "## Problem 1 - examine the data (35 points)\n",
    "\n",
    "Use `csvstat` and other tools as you see fit and observe its contents.  Review the metadata definitions linked to above.  Describe what you see:  What do all the columns mean?  Are there null values?  Which columns interest you the most?  Which columns present some complications or questions you would like to ask?"
   ]
  },
  {
   "cell_type": "code",
   "execution_count": 2,
   "metadata": {
    "collapsed": false
   },
   "outputs": [
    {
     "name": "stdout",
     "output_type": "stream",
     "text": [
      "  1: FACILITY_NAME\n",
      "  2: FACILITY_KEY\n",
      "  3: SITE_ADDRESS\n",
      "  4: CITY\n",
      "  5: STATE\n",
      "  6: ZIP\n",
      "  7: OWNER_KEY\n",
      "  8: OWNER_NAME\n",
      "  9: NATURE_OF_BUSINESS\n",
      " 10: STREET_NUMBER\n",
      " 11: STREET_NAME\n",
      " 12: STREET_TYPE\n",
      " 13: POST_DIRECTIONAL\n",
      " 14: PHONE\n",
      " 15: PROGRAM_CATEGORY\n",
      " 16: PROGRAM_CATEGORY_DESCRIPTION\n",
      " 17: INSPECTION_DATE\n",
      " 18: INSPECTION_TYPE\n",
      " 19: INSPECTION_DESC\n",
      " 20: SERIAL_NUM\n",
      " 21: ACTION_CODE\n",
      " 22: ACTION_DESC\n",
      " 23: RESULT_CODE\n",
      " 24: RESULT_DESC\n",
      " 25: VIOLATION_CODE\n",
      " 26: VIOLATION_DESC\n",
      " 27: INSPECTION_MEMO\n",
      "17557\n"
     ]
    }
   ],
   "source": [
    "!mv abq-food-inspections-fy2010.csv abqdata.csv\n",
    "!csvcut -n abqdata.csv\n",
    "!cat abqdata.csv | wc -l"
   ]
  },
  {
   "cell_type": "code",
   "execution_count": 3,
   "metadata": {
    "collapsed": false
   },
   "outputs": [
    {
     "name": "stdout",
     "output_type": "stream",
     "text": [
      "|--------------------------+--------------------+---------------+-------------+-------------+-------------------|\n",
      "|  OWNER_NAME              | NATURE_OF_BUSINESS | STREET_NUMBER | STREET_NAME | STREET_TYPE | POST_DIRECTIONAL  |\n",
      "|--------------------------+--------------------+---------------+-------------+-------------+-------------------|\n",
      "|  OOBSAY IT WITH CAKE     | CAKE DECORATING    | 10200         | GOLF COURSE | RD          | NW                |\n",
      "|  OOBSAY IT WITH CAKE     | CAKE DECORATING    | 10200         | GOLF COURSE | RD          | NW                |\n",
      "|  OOBSAY IT WITH CAKE     | CAKE DECORATING    | 10200         | GOLF COURSE | RD          | NW                |\n",
      "|  OOBSAY IT WITH CAKE     | CAKE DECORATING    | 10200         | GOLF COURSE | RD          | NW                |\n",
      "|  OOBSAY IT WITH CAKE     | CAKE DECORATING    | 10200         | GOLF COURSE | RD          | NW                |\n",
      "|  2000 VIETMAN RESTAURANT | RESTAURANT         | 601           | SAN MATEO   | BLVD        | SE                |\n",
      "|  2000 VIETMAN RESTAURANT | RESTAURANT         | 601           | SAN MATEO   | BLVD        | SE                |\n",
      "|  2000 VIETMAN RESTAURANT | RESTAURANT         | 601           | SAN MATEO   | BLVD        | SE                |\n",
      "|  328 CHINESE CUISINE     |                    | 5617          | MENAUL      | BLVD        | NE                |\n",
      "|  328 CHINESE CUISINE     |                    | 5617          | MENAUL      | BLVD        | NE                |\n",
      "|  328 CHINESE CUISINE     |                    | 5617          | MENAUL      | BLVD        | NE                |\n",
      "|  328 CHINESE CUISINE     |                    | 5617          | MENAUL      | BLVD        | NE                |\n",
      "|  328 CHINESE CUISINE     |                    | 5617          | MENAUL      | BLVD        | NE                |\n",
      "|  5 STAR ABQ INC          | RESTAURANT         | 5901          | WYOMING     | BLVD        | NE                |\n",
      "|  5 STAR ABQ INC          | RESTAURANT         | 5901          | WYOMING     | BLVD        | NE                |\n",
      "|  5 STAR ABQ INC          | RESTAURANT         | 5901          | WYOMING     | BLVD        | NE                |\n",
      "|  66 DINER                | RESTAURANT         | 1405          | CENTRAL     | AV          | NE                |\n",
      "|  66 DINER                | RESTAURANT         | 1405          | CENTRAL     | AV          | NE                |\n",
      "|  66 DINER                | RESTAURANT         | 1405          | CENTRAL     | AV          | NE                |\n",
      "|--------------------------+--------------------+---------------+-------------+-------------+-------------------|\n",
      "|-------------+------------------+------------------------------+---------------------+------------------|\n",
      "|  PHONE      | PROGRAM_CATEGORY | PROGRAM_CATEGORY_DESCRIPTION | INSPECTION_DATE     | INSPECTION_TYPE  |\n",
      "|-------------+------------------+------------------------------+---------------------+------------------|\n",
      "|  5058339563 | 0405             | Food Processor               | 2009-10-21 00:00:00 |                  |\n",
      "|  5058339563 | 0405             | Food Processor               | 2009-10-21 00:00:00 |                  |\n",
      "|  5058339563 | 0405             | Food Processor               | 2009-10-21 00:00:00 |                  |\n",
      "|  5058339563 | 0405             | Food Processor               | 2010-04-14 00:00:00 |                  |\n",
      "|  5058339563 | 0405             | Food Processor               | 2010-04-14 00:00:00 |                  |\n",
      "|  5052320900 | 0406             | Food Service Establishment   | 2010-03-23 00:00:00 |                  |\n",
      "|  5052320900 | 0406             | Food Service Establishment   | 2010-03-23 00:00:00 |                  |\n",
      "|  5052320900 | 0406             | Food Service Establishment   | 2010-03-23 00:00:00 |                  |\n",
      "|  5058814468 | 0406             | Food Service Establishment   | 2009-12-15 00:00:00 |                  |\n",
      "|  5058814468 | 0406             | Food Service Establishment   | 2009-12-15 00:00:00 |                  |\n",
      "|  5058814468 | 0406             | Food Service Establishment   | 2009-12-15 00:00:00 |                  |\n",
      "|  5058814468 | 0406             | Food Service Establishment   | 2010-05-03 00:00:00 |                  |\n",
      "|  5058814468 | 0406             | Food Service Establishment   | 2010-05-03 00:00:00 |                  |\n",
      "|  5057643000 | 0406             | Food Service Establishment   | 2010-03-19 00:00:00 |                  |\n",
      "|  5057643000 | 0406             | Food Service Establishment   | 2010-06-01 00:00:00 |                  |\n",
      "|  5057643000 | 0406             | Food Service Establishment   | 2010-06-01 00:00:00 |                  |\n",
      "|  5052471421 | 0406             | Food Service Establishment   | 2009-11-06 00:00:00 |                  |\n",
      "|  5052471421 | 0406             | Food Service Establishment   | 2009-11-06 00:00:00 |                  |\n",
      "|  5052471421 | 0406             | Food Service Establishment   | 2009-11-06 00:00:00 |                  |\n",
      "|-------------+------------------+------------------------------+---------------------+------------------|\n",
      "|------------------------------+------------+-------------+-------------+--------------|\n",
      "|  INSPECTION_DESC             | SERIAL_NUM | ACTION_CODE | ACTION_DESC | RESULT_CODE  |\n",
      "|------------------------------+------------+-------------+-------------+--------------|\n",
      "|  EMERGENCY RESPONSE          | DA8009125  | 00          | NON-GRADED  | 00           |\n",
      "|  ROUTINE FOOD INSPECTION     | DA8009123  | 11          | APPROVED    | 03           |\n",
      "|  ROUTINE FOOD INSPECTION     | DA8009123  | 11          | APPROVED    | 03           |\n",
      "|  ROUTINE FOOD INSPECTION     | DA8010205  | 11          | APPROVED    | 03           |\n",
      "|  ROUTINE FOOD INSPECTION     | DA8010205  | 11          | APPROVED    | 03           |\n",
      "|  ROUTINE FOOD INSPECTION     | DA8509472  | 11          | APPROVED    | 03           |\n",
      "|  ROUTINE FOOD INSPECTION     | DA8509472  | 11          | APPROVED    | 03           |\n",
      "|  ROUTINE FOOD INSPECTION     | DA8509472  | 11          | APPROVED    | 03           |\n",
      "|  EMERGENCY RESPONSE          | DA7757250  | 00          | NON-GRADED  | 00           |\n",
      "|  ROUTINE FOOD INSPECTION     | DA7757248  | 11          | APPROVED    | 03           |\n",
      "|  ROUTINE FOOD INSPECTION     | DA7757248  | 11          | APPROVED    | 03           |\n",
      "|  ROUTINE FOOD INSPECTION     | DA7758349  | 11          | APPROVED    | 03           |\n",
      "|  ROUTINE FOOD INSPECTION     | DA7758349  | 11          | APPROVED    | 03           |\n",
      "|  PRE-OPENING FOOD INSPECTION | DA0043259  | 11          | APPROVED    | 03           |\n",
      "|  New Business Inspection     | DA7508249  | 11          | APPROVED    | 03           |\n",
      "|  New Business Inspection     | DA7508249  | 11          | APPROVED    | 03           |\n",
      "|  EMERGENCY RESPONSE          | DA8508538  | 00          | NON-GRADED  | 00           |\n",
      "|  ROUTINE FOOD INSPECTION     | DA8508536  | 11          | APPROVED    | 03           |\n",
      "|  ROUTINE FOOD INSPECTION     | DA8508536  | 11          | APPROVED    | 03           |\n",
      "|------------------------------+------------+-------------+-------------+--------------|\n",
      "|-----------------+----------------+----------------------------------+------------------|\n",
      "|  RESULT_DESC    | VIOLATION_CODE | VIOLATION_DESC                   | INSPECTION_MEMO  |\n",
      "|-----------------+----------------+----------------------------------+------------------|\n",
      "|  NOT APPLICABLE |     68         | Delivered Informational Brochure |                  |\n",
      "|  IN COMPLIANCE  |     00         | No Violations Found              |                  |\n",
      "|  IN COMPLIANCE  |     55         | Additional Comments              |                  |\n",
      "|  IN COMPLIANCE  |     00         | No Violations Found              |                  |\n",
      "|  IN COMPLIANCE  |     55         | Additional Comments              |                  |\n",
      "|  IN COMPLIANCE  |     34         | Food contact surfaces            |                  |\n",
      "|  IN COMPLIANCE  |     35         | Non-Food contact surfaces        |                  |\n",
      "|  IN COMPLIANCE  |     55         | Additional Comments              |                  |\n",
      "|  NOT APPLICABLE |     68         | Delivered Informational Brochure |                  |\n",
      "|  IN COMPLIANCE  |     00         | No Violations Found              |                  |\n",
      "|  IN COMPLIANCE  |     55         | Additional Comments              |                  |\n",
      "|  IN COMPLIANCE  |     00         | No Violations Found              |                  |\n",
      "|  IN COMPLIANCE  |     55         | Additional Comments              |                  |\n",
      "|  IN COMPLIANCE  |                |                                  |                  |\n",
      "|  IN COMPLIANCE  |     00         | No Violations Found              |                  |\n",
      "|  IN COMPLIANCE  |     55         | Additional Comments              |                  |\n",
      "|  NOT APPLICABLE |     68         | Delivered Informational Brochure |                  |\n",
      "|  IN COMPLIANCE  |     00         | No Violations Found              |                  |\n",
      "|  IN COMPLIANCE  |     55         | Additional Comments              |                  |\n",
      "|-----------------+----------------+----------------------------------+------------------|\n"
     ]
    }
   ],
   "source": [
    "!head -20 abqdata.csv | csvcut -c8,9,10,11,12,13 | csvlook\n",
    "!head -20 abqdata.csv | csvcut -c14,15,16,17,18 | csvlook\n",
    "!head -20 abqdata.csv | csvcut -c19,20,21,22,23 | csvlook\n",
    "!head -20 abqdata.csv | csvcut -c24,25,26,27 | csvlook"
   ]
  },
  {
   "cell_type": "code",
   "execution_count": 4,
   "metadata": {
    "collapsed": false
   },
   "outputs": [
    {
     "name": "stdout",
     "output_type": "stream",
     "text": [
      "  1. FACILITY_NAME\n",
      "\t<class 'str'>\n",
      "\tNulls: False\n",
      "\tUnique values: 2615\n",
      "\t5 most frequent values:\n",
      "\t\tSMITHS FOOD AND DRUG CENTERS INC:\t154\n",
      "\t\tISOTOPES PARK - OVATIONS:\t93\n",
      "\t\tPER EHSII CECELIA GARCIA OOB LA REYNA DEL SUR:\t85\n",
      "\t\tECHO INC:\t68\n",
      "\t\tISLETA AMPHITHEATER:\t68\n",
      "\tMax length: 77\n",
      "  2. FACILITY_KEY\n",
      "\t<class 'int'>\n",
      "\tNulls: False\n",
      "\tMin: 13\n",
      "\tMax: 101482\n",
      "\tSum: 820405773\n",
      "\tMean: 46730.79135338346\n",
      "\tMedian: 50866.0\n",
      "\tStandard Deviation: 32659.794578837962\n",
      "\tUnique values: 2835\n",
      "\t5 most frequent values:\n",
      "\t\t46323:\t93\n",
      "\t\t65863:\t85\n",
      "\t\t80949:\t68\n",
      "\t\t32817:\t68\n",
      "\t\t91825:\t66\n",
      "  3. SITE_ADDRESS\n",
      "\t<class 'str'>\n",
      "\tNulls: True\n",
      "\tUnique values: 2456\n",
      "\t5 most frequent values:\n",
      "\t\t1601 AVENIDA CESAR CHAVEZ SE:\t94\n",
      "\t\t644 OLD COORS BLVD SW:\t85\n",
      "\t\t8601 CENTRAL AV NE:\t77\n",
      "\t\t2200 SUNPORT BLVD SE:\t75\n",
      "\t\t5210 CENTRAL AV SE:\t73\n",
      "\tMax length: 35\n",
      "  4. CITY\n",
      "\t<class 'str'>\n",
      "\tNulls: False\n",
      "\tValues: ALBUQUERQUE\n",
      "  5. STATE\n",
      "\t<class 'str'>\n",
      "\tNulls: False\n",
      "\tValues: 87, NM\n",
      "  6. ZIP\n",
      "\t<class 'str'>\n",
      "\tNulls: False\n",
      "\tUnique values: 48\n",
      "\t5 most frequent values:\n",
      "\t\t87110:\t1996\n",
      "\t\t87108:\t1976\n",
      "\t\t87102:\t1601\n",
      "\t\t87106:\t1568\n",
      "\t\t87109:\t1552\n",
      "\tMax length: 10\n",
      "  7. OWNER_KEY\n",
      "\t<class 'int'>\n",
      "\tNulls: False\n",
      "\tMin: 11\n",
      "\tMax: 87302\n",
      "\tSum: 644760848\n",
      "\tMean: 36725.953975848715\n",
      "\tMedian: 33747.0\n",
      "\tStandard Deviation: 29428.207216739836\n",
      "\tUnique values: 1892\n",
      "\t5 most frequent values:\n",
      "\t\t1838:\t792\n",
      "\t\t3537:\t321\n",
      "\t\t1272:\t228\n",
      "\t\t36280:\t156\n",
      "\t\t80274:\t155\n",
      "  8. OWNER_NAME\n",
      "\t<class 'str'>\n",
      "\tNulls: False\n",
      "\tUnique values: 1852\n",
      "\t5 most frequent values:\n",
      "\t\tAPS:\t792\n",
      "\t\tSMITHS FOOD AND DRUG CENTERS INC:\t321\n",
      "\t\tCIRCLE K STORES INC:\t277\n",
      "\t\tALBERTSONS:\t228\n",
      "\t\tWAL MART STORES EAST  LP:\t156\n",
      "\tMax length: 82\n",
      "  9. NATURE_OF_BUSINESS\n",
      "\t<class 'str'>\n",
      "\tNulls: True\n",
      "\tUnique values: 594\n",
      "\t5 most frequent values:\n",
      "\t\tRESTAURANT:\t4994\n",
      "\t\tFOOD SERVICE:\t691\n",
      "\t\tGROCERY:\t618\n",
      "\t\tBAR/RESTAURANT:\t508\n",
      "\t\tAPS SCHOOL FOOD SERVICE:\t470\n",
      "\tMax length: 25\n",
      " 10. STREET_NUMBER\n",
      "\t<class 'str'>\n",
      "\tNulls: True\n",
      "\tUnique values: 1349\n",
      "\t5 most frequent values:\n",
      "\t\t6600:\t216\n",
      "\t\t10000:\t152\n",
      "\t\t300:\t143\n",
      "\t\t2200:\t127\n",
      "\t\t8100:\t125\n",
      "\tMax length: 7\n",
      " 11. STREET_NAME\n",
      "\t<class 'str'>\n",
      "\tNulls: True\n",
      "\tUnique values: 404\n",
      "\t5 most frequent values:\n",
      "\t\tCENTRAL:\t1898\n",
      "\t\tMENAUL:\t928\n",
      "\t\tCOORS:\t918\n",
      "\t\tMONTGOMERY:\t727\n",
      "\t\tSAN MATEO:\t707\n",
      "\tMax length: 24\n",
      " 12. STREET_TYPE\n",
      "\t<class 'str'>\n",
      "\tNulls: True\n",
      "\tUnique values: 13\n",
      "\t5 most frequent values:\n",
      "\t\tBLVD:\t7636\n",
      "\t\tAV:\t3005\n",
      "\t\tST:\t2065\n",
      "\t\tRD:\t1900\n",
      "\t\tDR:\t995\n",
      "\tMax length: 4\n",
      " 13. POST_DIRECTIONAL\n",
      "\t<class 'str'>\n",
      "\tNulls: True\n",
      "\tValues: NE, SE, NW, SW, N\n",
      " 14. PHONE\n",
      "\t<class 'int'>\n",
      "\tNulls: True\n",
      "\tMin: 2471094\n",
      "\tMax: 505345566137310\n",
      "\tSum: 2608539289633190\n",
      "\tMean: 161719732773.29138\n",
      "\tMedian: 5053454060.0\n",
      "\tStandard Deviation: 8895791545525.992\n",
      "\tUnique values: 2279\n",
      "\t5 most frequent values:\n",
      "\t\t9153321301:\t101\n",
      "\t\t3037929467:\t100\n",
      "\t\t5052224033:\t94\n",
      "\t\t3109680646:\t85\n",
      "\t\t2122383000:\t68\n",
      " 15. PROGRAM_CATEGORY\n",
      "\t<class 'str'>\n",
      "\tNulls: False\n",
      "\tUnique values: 25\n",
      "\t5 most frequent values:\n",
      "\t\t0406:\t7969\n",
      "\t\t0601:\t1159\n",
      "\t\t0607:\t894\n",
      "\t\t0606:\t865\n",
      "\t\t0408:\t832\n",
      "\tMax length: 4\n",
      " 16. PROGRAM_CATEGORY_DESCRIPTION\n",
      "\t<class 'str'>\n",
      "\tNulls: True\n",
      "\tUnique values: 24\n",
      "\t5 most frequent values:\n",
      "\t\tFood Service Establishment:\t7969\n",
      "\t\tRetail -Grocery:\t1159\n",
      "\t\tRetail - Self Service & Prepackage Foods:\t894\n",
      "\t\tRetail - Prepackage Only:\t865\n",
      "\t\tBar:\t832\n",
      "\tMax length: 40\n",
      " 17. INSPECTION_DATE\n",
      "\t<class 'datetime.date'>\n",
      "\tNulls: False\n",
      "\tMin: 2009-07-01\n",
      "\tMax: 2010-06-30\n",
      "\tUnique values: 258\n",
      "\t5 most frequent values:\n",
      "\t\t2009-12-16:\t184\n",
      "\t\t2009-09-10:\t159\n",
      "\t\t2009-09-25:\t148\n",
      "\t\t2009-11-04:\t133\n",
      "\t\t2009-10-01:\t131\n",
      " 18. INSPECTION_TYPE\n",
      "\t<class 'NoneType'>\n",
      "\tNulls: True\n",
      "\tValues: \n",
      " 19. INSPECTION_DESC\n",
      "\t<class 'str'>\n",
      "\tNulls: False\n",
      "\tUnique values: 15\n",
      "\t5 most frequent values:\n",
      "\t\tROUTINE FOOD INSPECTION:\t12439\n",
      "\t\tEMERGENCY RESPONSE:\t1987\n",
      "\t\tNew Business Inspection:\t1005\n",
      "\t\tPRE-OPENING FOOD INSPECTION:\t743\n",
      "\t\tADDITIONAL SERVICE PROVIDED:\t439\n",
      "\tMax length: 32\n",
      " 20. SERIAL_NUM\n",
      "\t<class 'str'>\n",
      "\tNulls: False\n",
      "\tUnique values: 9046\n",
      "\t5 most frequent values:\n",
      "\t\tDA0047290:\t61\n",
      "\t\tDA0045731:\t61\n",
      "\t\tDA0045676:\t61\n",
      "\t\tDA0047720:\t61\n",
      "\t\tDA0059230:\t61\n",
      "\tMax length: 9\n",
      " 21. ACTION_CODE\n",
      "\t<class 'str'>\n",
      "\tNulls: False\n",
      "\tUnique values: 8\n",
      "\t5 most frequent values:\n",
      "\t\t11:\t14080\n",
      "\t\t00:\t2800\n",
      "\t\t09:\t382\n",
      "\t\t06:\t264\n",
      "\t\t10:\t21\n",
      "\tMax length: 2\n",
      " 22. ACTION_DESC\n",
      "\t<class 'str'>\n",
      "\tNulls: False\n",
      "\tUnique values: 8\n",
      "\t5 most frequent values:\n",
      "\t\tAPPROVED:\t14080\n",
      "\t\tNON-GRADED:\t2800\n",
      "\t\tANNUAL STICKER ISSUED:\t382\n",
      "\t\tUNSATISFACTORY:\t264\n",
      "\t\tANNUAL STICKER NOT ISSUED:\t21\n",
      "\tMax length: 34\n",
      " 23. RESULT_CODE\n",
      "\t<class 'str'>\n",
      "\tNulls: False\n",
      "\tUnique values: 19\n",
      "\t5 most frequent values:\n",
      "\t\t03:\t14389\n",
      "\t\t00:\t2416\n",
      "\t\t05:\t214\n",
      "\t\t22:\t142\n",
      "\t\t18:\t104\n",
      "\tMax length: 2\n",
      " 24. RESULT_DESC\n",
      "\t<class 'str'>\n",
      "\tNulls: False\n",
      "\tUnique values: 19\n",
      "\t5 most frequent values:\n",
      "\t\tIN COMPLIANCE:\t14389\n",
      "\t\tNOT APPLICABLE:\t2416\n",
      "\t\tDOWNGRADE:\t214\n",
      "\t\tOUT OF BUSINESS:\t142\n",
      "\t\tTRAINING RECEIVED:\t104\n",
      "\tMax length: 37\n",
      " 25. VIOLATION_CODE\n",
      "\t<class 'str'>\n",
      "\tNulls: True\n",
      "\tUnique values: 128\n",
      "\t5 most frequent values:\n",
      "\t\t55:\t6348\n",
      "\t\t00:\t3429\n",
      "\t\t68:\t1658\n",
      "\t\t42:\t487\n",
      "\t\t35:\t441\n",
      "\tMax length: 10\n",
      " 26. VIOLATION_DESC\n",
      "\t<class 'str'>\n",
      "\tNulls: True\n",
      "\tUnique values: 70\n",
      "\t5 most frequent values:\n",
      "\t\tAdditional Comments:\t6353\n",
      "\t\tNo Violations Found:\t3434\n",
      "\t\tDelivered Informational Brochure:\t1657\n",
      "\t\tPlumbing: Improperly installed/maintained/supplied:\t492\n",
      "\t\tNon-Food contact surfaces:\t446\n",
      "\tMax length: 50\n",
      " 27. INSPECTION_MEMO\n",
      "\t<class 'NoneType'>\n",
      "\tNulls: True\n",
      "\tValues: \n",
      "\n",
      "Row count: 17556\n"
     ]
    }
   ],
   "source": [
    "!csvstat abqdata.csv"
   ]
  },
  {
   "cell_type": "markdown",
   "metadata": {},
   "source": [
    "Insert a combination of code and text/markdown cells here to review the data and describe what you find."
   ]
  },
  {
   "cell_type": "markdown",
   "metadata": {
    "collapsed": false
   },
   "source": [
    "What do all the columns mean?\n",
    "1: FACILITY_NAME: Name of the facility where the food inspection occurred\n",
    "2: FACILITY_KEY: The unique identifier (key) of the facility where the food inspection occurred\n",
    "3: SITE_ADDRESS: Street address of the facility where the food inspection occurred\n",
    "4: CITY: City of the facility where the food inspection occurred\n",
    "5: STATE: State of the facility where the food inspection occurred\n",
    "6: ZIP: Zip of the facility where the food inspection occurred\n",
    "7: OWNER_KEY: The unique identifier (key) of the Owner of the facility where the food inspection occurred at the time of the inspection\n",
    "8: OWNER_NAME: Name of the Owner of the facility where the food inspection occurred at the time of the inspection\n",
    "9: NATURE_OF_BUSINESS: The type of business, originally for internal use only, provides information about the business. This information is not on the federal tax form\n",
    "10: STREET_NUMBER: Street number of the facility where the food inspection occurred\n",
    "11: STREET_NAME: Street name of the facility where the food inspection occurred\n",
    "12: STREET_TYPE: Street type of the facility where the food inspection occurred\n",
    "13: POST_DIRECTIONAL: Postal direction of the facility where the food inspection occurred\n",
    "14: PHONE: Phone number of the facility where the food inspection occurred\n",
    "15: PROGRAM_CATEGORY: Id that indicates the type of facility permit the food inspection was performed\n",
    "16: PROGRAM_CATEGORY_DESCRIPTION: Descript of the id that indicates the type of facility\n",
    "17: INSPECTION_DATE: Date the food inspection occurred\n",
    "18: INSPECTION_TYPE: Code for type of the food inspection\n",
    "19: INSPECTION_DESC: Description of the food inspection\n",
    "20: SERIAL_NUM: Unique ID for the food inspection daily activity\n",
    "21: ACTION_CODE: Code of the action taken\n",
    "22: ACTION_DESC: Description of the action taken\n",
    "23: RESULT_CODE: Code of the result of the food inspection\n",
    "24: RESULT_DESC: Description of the result of the food inspection\n",
    "25: VIOLATION_CODE: The code for the violation\n",
    "26: VIOLATION_DESC: Description of the violation that was found\n",
    "27: INSPECTION_MEMO: Notes from the inspection made by the inspector"
   ]
  },
  {
   "cell_type": "markdown",
   "metadata": {
    "collapsed": true
   },
   "source": [
    "Are there null values?\n",
    "The null values appear on the following variables: SITE_ADDRESS, NATURE_OF_BUSINESS, STREET_NUMBER, STREET_NAME, STREET_TYPE, POST_DIRECTIONAL, PHONE, PROGRAM_CATEGORY_DESCRIPTION, INSPECTION_TYPE, VIOLATION_CODE, VIOLATION_DESC, INSPECTION_MEMO\n",
    "#Which columns interest you the most?\n",
    "FACILITY_NAME NATURE_OF_BUSINESS INSPECTION_DESC ACTION_DESC RESULT_DESC VIOLATION_DESC"
   ]
  },
  {
   "cell_type": "markdown",
   "metadata": {},
   "source": [
    "Which columns present some complications or questions you would like to ask?\n",
    "what are the 5 most common outcomes (RESULT_DESC variable) in the routine food inspections ?"
   ]
  },
  {
   "cell_type": "code",
   "execution_count": 5,
   "metadata": {
    "collapsed": false
   },
   "outputs": [
    {
     "name": "stdout",
     "output_type": "stream",
     "text": [
      "[Errno 2] No such file or directory: 'abcdata.csv'\r\n",
      "\r\n",
      "\r\n"
     ]
    }
   ],
   "source": [
    "!csvcut -c1,9,19,22,24,26 abcdata.csv | csvgrep -c3 -m \"ROUTINE FOOD INSPECTION\" | csvcut -c5 | sort | uniq -c | sort -rn | head -5"
   ]
  },
  {
   "cell_type": "markdown",
   "metadata": {},
   "source": [
    "## Problem 2 - define a database model and load the data (35 points)\n",
    "\n",
    "Based on what you found above, create and connect to a new database, define a database table in it, and load this dataset into it.  You may use either of the methods for this step you have seen in earlier class notebooks.  You may choose to eliminate variables/columns if they are not relevant or interesting to you - explain your reasoning if you do.  Either way, you should load a majority of the columns present in the source dataset into the database and all of its rows.\n",
    "\n",
    "Once your data has loaded successfully, run a `COUNT(*)` query to verify that all the data has loaded correctly.\n",
    "\n",
    "Insert a combination of code and text/markdown cells here to connect to your database, define your table, load its data, and verify the loaded records."
   ]
  },
  {
   "cell_type": "code",
   "execution_count": 6,
   "metadata": {
    "collapsed": false
   },
   "outputs": [
    {
     "name": "stderr",
     "output_type": "stream",
     "text": [
      "/opt/conda/lib/python3.5/site-packages/IPython/config.py:13: ShimWarning: The `IPython.config` package has been deprecated. You should import from traitlets.config instead.\n",
      "  \"You should import from traitlets.config instead.\", ShimWarning)\n",
      "/opt/conda/lib/python3.5/site-packages/IPython/utils/traitlets.py:5: UserWarning: IPython.utils.traitlets has moved to a top-level traitlets package.\n",
      "  warn(\"IPython.utils.traitlets has moved to a top-level traitlets package.\")\n"
     ]
    }
   ],
   "source": [
    "%load_ext sql"
   ]
  },
  {
   "cell_type": "code",
   "execution_count": 7,
   "metadata": {
    "collapsed": false
   },
   "outputs": [
    {
     "name": "stdout",
     "output_type": "stream",
     "text": [
      "[sudo] password for jovyan: Restarting PostgreSQL 9.5 database server: main.\n"
     ]
    }
   ],
   "source": [
    "!echo 'redspot' | sudo -S service postgresql restart"
   ]
  },
  {
   "cell_type": "code",
   "execution_count": 8,
   "metadata": {
    "collapsed": false
   },
   "outputs": [
    {
     "name": "stdout",
     "output_type": "stream",
     "text": [
      "createdb: database creation failed: ERROR:  database \"exer4\" already exists\r\n"
     ]
    }
   ],
   "source": [
    "!createdb -U dbuser exer4"
   ]
  },
  {
   "cell_type": "code",
   "execution_count": 9,
   "metadata": {
    "collapsed": false
   },
   "outputs": [
    {
     "data": {
      "text/plain": [
       "'Connected: dbuser@exer4'"
      ]
     },
     "execution_count": 9,
     "metadata": {},
     "output_type": "execute_result"
    }
   ],
   "source": [
    "%sql postgresql://dbuser@localhost:5432/exer4"
   ]
  },
  {
   "cell_type": "code",
   "execution_count": 10,
   "metadata": {
    "collapsed": false
   },
   "outputs": [
    {
     "name": "stdout",
     "output_type": "stream",
     "text": [
      "  1. PER EHSII SHANNON BLUEEYES FA OOB 8/31/13 BASKIN ROBBINS\n",
      "\t<class 'str'>\n",
      "\tNulls: False\n",
      "\tUnique values: 2479\n",
      "\t5 most frequent values:\n",
      "\t\tSMITHS FOOD AND DRUG CENTERS INC:\t92\n",
      "\t\tISOTOPES PARK - OVATIONS:\t48\n",
      "\t\tPER EHSII CECELIA GARCIA OOB LA REYNA DEL SUR:\t47\n",
      "\t\tECHO INC:\t43\n",
      "\t\tOOB CALIFORNIA DEL NORTE ICE CREAM LLC:\t41\n",
      "\tMax length: 77\n",
      "  2. 63600\n",
      "\t<class 'int'>\n",
      "\tNulls: False\n",
      "\tMin: 13\n",
      "\tMax: 94931\n",
      "\tSum: 467675389\n",
      "\tMean: 46772.21612161216\n",
      "\tMedian: 50552\n",
      "\tStandard Deviation: 32551.882379890903\n",
      "\tUnique values: 2678\n",
      "\t5 most frequent values:\n",
      "\t\t46323:\t48\n",
      "\t\t65863:\t47\n",
      "\t\t80949:\t43\n",
      "\t\t64527:\t41\n",
      "\t\t91821:\t39\n",
      "  3. 2201 CENTRAL BLVD NW \n",
      "\t<class 'str'>\n",
      "\tNulls: True\n",
      "\tUnique values: 2354\n",
      "\t5 most frequent values:\n",
      "\t\t1601 AVENIDA CESAR CHAVEZ SE:\t49\n",
      "\t\t8601 CENTRAL AV NE:\t48\n",
      "\t\t644 OLD COORS BLVD SW:\t47\n",
      "\t\t2200 SUNPORT BLVD SE:\t45\n",
      "\t\t300 MENAUL NW:\t43\n",
      "\tMax length: 35\n",
      "  4. ALBUQUERQUE\n",
      "\t<class 'str'>\n",
      "\tNulls: False\n",
      "\tValues: ALBUQUERQUE\n",
      "  5. NM\n",
      "\t<class 'str'>\n",
      "\tNulls: False\n",
      "\tValues: NM, 87\n",
      "  6. 87104\n",
      "\t<class 'str'>\n",
      "\tNulls: False\n",
      "\tUnique values: 48\n",
      "\t5 most frequent values:\n",
      "\t\t87110:\t1157\n",
      "\t\t87108:\t1112\n",
      "\t\t87102:\t917\n",
      "\t\t87106:\t908\n",
      "\t\t87109:\t837\n",
      "\tMax length: 10\n",
      "  7. 58547\n",
      "\t<class 'int'>\n",
      "\tNulls: False\n",
      "\tMin: 11\n",
      "\tMax: 85774\n",
      "\tSum: 367364152\n",
      "\tMean: 36740.089208920894\n",
      "\tMedian: 33747\n",
      "\tStandard Deviation: 29353.95673157231\n",
      "\tUnique values: 1780\n",
      "\t5 most frequent values:\n",
      "\t\t1838:\t462\n",
      "\t\t3537:\t183\n",
      "\t\t1272:\t123\n",
      "\t\t80274:\t91\n",
      "\t\t44953:\t90\n",
      "  8. SULLINS DEV CORP\n",
      "\t<class 'str'>\n",
      "\tNulls: False\n",
      "\tUnique values: 1741\n",
      "\t5 most frequent values:\n",
      "\t\tAPS:\t462\n",
      "\t\tSMITHS FOOD AND DRUG CENTERS INC:\t183\n",
      "\t\tCIRCLE K STORES INC:\t166\n",
      "\t\tALBERTSONS:\t123\n",
      "\t\tBLAKES LOTABURGER LLC:\t90\n",
      "\tMax length: 82\n",
      "  9. ICE CREAM\n",
      "\t<class 'str'>\n",
      "\tNulls: True\n",
      "\tUnique values: 558\n",
      "\t5 most frequent values:\n",
      "\t\tRESTAURANT:\t2854\n",
      "\t\tFOOD SERVICE:\t397\n",
      "\t\tGROCERY:\t338\n",
      "\t\tBAR/RESTAURANT:\t293\n",
      "\t\tAPS SCHOOL FOOD SERVICE:\t286\n",
      "\tMax length: 25\n",
      " 10. 2201\n",
      "\t<class 'str'>\n",
      "\tNulls: True\n",
      "\tUnique values: 1309\n",
      "\t5 most frequent values:\n",
      "\t\t6600:\t119\n",
      "\t\t10000:\t90\n",
      "\t\t300:\t84\n",
      "\t\t2200:\t77\n",
      "\t\t8100:\t62\n",
      "\tMax length: 7\n",
      " 11. CENTRAL\n",
      "\t<class 'str'>\n",
      "\tNulls: True\n",
      "\tUnique values: 387\n",
      "\t5 most frequent values:\n",
      "\t\tCENTRAL:\t1102\n",
      "\t\tMENAUL:\t533\n",
      "\t\tCOORS:\t526\n",
      "\t\tMONTGOMERY:\t391\n",
      "\t\tSAN MATEO:\t384\n",
      "\tMax length: 24\n",
      " 12. BLVD\n",
      "\t<class 'str'>\n",
      "\tNulls: True\n",
      "\tUnique values: 13\n",
      "\t5 most frequent values:\n",
      "\t\tBLVD:\t4365\n",
      "\t\tAV:\t1736\n",
      "\t\tST:\t1193\n",
      "\t\tRD:\t1044\n",
      "\t\tDR:\t555\n",
      "\tMax length: 4\n",
      " 13. NW\n",
      "\t<class 'str'>\n",
      "\tNulls: True\n",
      "\tValues: NW, N, NE, SW, SE\n",
      " 14. 5058436390\n",
      "\t<class 'int'>\n",
      "\tNulls: True\n",
      "\tMin: 2471094\n",
      "\tMax: 505345566137310\n",
      "\tSum: 1057453191935456\n",
      "\tMean: 114878130574.19403\n",
      "\tMedian: 5053453534\n",
      "\tStandard Deviation: 7448005891560.275\n",
      "\tUnique values: 2159\n",
      "\t5 most frequent values:\n",
      "\t\t9153321301:\t60\n",
      "\t\t3037929467:\t56\n",
      "\t\t5052224033:\t49\n",
      "\t\t3109680646:\t47\n",
      "\t\t5052426777:\t43\n",
      " 15. 1002\n",
      "\t<class 'str'>\n",
      "\tNulls: False\n",
      "\tUnique values: 25\n",
      "\t5 most frequent values:\n",
      "\t\t0406:\t4608\n",
      "\t\t0601:\t647\n",
      "\t\t0606:\t494\n",
      "\t\t0607:\t491\n",
      "\t\t0408:\t482\n",
      "\tMax length: 4\n",
      " 16. Mobile Food Unit\n",
      "\t<class 'str'>\n",
      "\tNulls: True\n",
      "\tUnique values: 24\n",
      "\t5 most frequent values:\n",
      "\t\tFood Service Establishment:\t4608\n",
      "\t\tRetail -Grocery:\t647\n",
      "\t\tRetail - Prepackage Only:\t494\n",
      "\t\tRetail - Self Service & Prepackage Foods:\t491\n",
      "\t\tSchool:\t482\n",
      "\tMax length: 40\n",
      " 17. 2009-12-17 00:00:00\n",
      "\t<class 'datetime.date'>\n",
      "\tNulls: False\n",
      "\tMin: 2009-07-01\n",
      "\tMax: 2010-06-30\n",
      "\tUnique values: 255\n",
      "\t5 most frequent values:\n",
      "\t\t2009-12-16:\t101\n",
      "\t\t2009-09-10:\t93\n",
      "\t\t2009-09-25:\t79\n",
      "\t\t2009-10-01:\t79\n",
      "\t\t2009-11-04:\t79\n",
      " 18. _unnamed\n",
      "\t<class 'NoneType'>\n",
      "\tNulls: True\n",
      "\tValues: \n",
      " 19. MOBILE UNIT FOOD INSPECTION\n",
      "\t<class 'str'>\n",
      "\tNulls: False\n",
      "\tUnique values: 13\n",
      "\t5 most frequent values:\n",
      "\t\tROUTINE FOOD INSPECTION:\t7070\n",
      "\t\tEMERGENCY RESPONSE:\t1124\n",
      "\t\tNew Business Inspection:\t557\n",
      "\t\tPRE-OPENING FOOD INSPECTION:\t440\n",
      "\t\tADDITIONAL SERVICE PROVIDED:\t277\n",
      "\tMax length: 32\n",
      " 20. DA7006435\n",
      "\t<class 'str'>\n",
      "\tNulls: False\n",
      "\tUnique values: 6672\n",
      "\t5 most frequent values:\n",
      "\t\tDA0047290:\t39\n",
      "\t\tDA0045731:\t39\n",
      "\t\tDA0047720:\t36\n",
      "\t\tDA0059230:\t34\n",
      "\t\tDA0045676:\t31\n",
      "\tMax length: 9\n",
      " 21. 09\n",
      "\t<class 'str'>\n",
      "\tNulls: False\n",
      "\tUnique values: 8\n",
      "\t5 most frequent values:\n",
      "\t\t11:\t8009\n",
      "\t\t00:\t1598\n",
      "\t\t09:\t210\n",
      "\t\t06:\t165\n",
      "\t\t10:\t11\n",
      "\tMax length: 2\n",
      " 22. ANNUAL STICKER ISSUED\n",
      "\t<class 'str'>\n",
      "\tNulls: False\n",
      "\tUnique values: 8\n",
      "\t5 most frequent values:\n",
      "\t\tAPPROVED:\t8009\n",
      "\t\tNON-GRADED:\t1598\n",
      "\t\tANNUAL STICKER ISSUED:\t210\n",
      "\t\tUNSATISFACTORY:\t165\n",
      "\t\tANNUAL STICKER NOT ISSUED:\t11\n",
      "\tMax length: 34\n",
      " 23. 03\n",
      "\t<class 'str'>\n",
      "\tNulls: False\n",
      "\tUnique values: 18\n",
      "\t5 most frequent values:\n",
      "\t\t03:\t8168\n",
      "\t\t00:\t1366\n",
      "\t\t05:\t135\n",
      "\t\t22:\t97\n",
      "\t\t18:\t62\n",
      "\tMax length: 2\n",
      " 24. IN COMPLIANCE\n",
      "\t<class 'str'>\n",
      "\tNulls: False\n",
      "\tUnique values: 18\n",
      "\t5 most frequent values:\n",
      "\t\tIN COMPLIANCE:\t8168\n",
      "\t\tNOT APPLICABLE:\t1366\n",
      "\t\tDOWNGRADE:\t135\n",
      "\t\tOUT OF BUSINESS:\t97\n",
      "\t\tTRAINING RECEIVED:\t62\n",
      "\tMax length: 37\n",
      " 25.     00    \n",
      "\t<class 'str'>\n",
      "\tNulls: True\n",
      "\tUnique values: 123\n",
      "\t5 most frequent values:\n",
      "\t\t55:\t3580\n",
      "\t\t00:\t1951\n",
      "\t\t68:\t936\n",
      "\t\t42:\t262\n",
      "\t\t38:\t248\n",
      "\tMax length: 10\n",
      " 26. No Violations Found\n",
      "\t<class 'str'>\n",
      "\tNulls: True\n",
      "\tUnique values: 69\n",
      "\t5 most frequent values:\n",
      "\t\tAdditional Comments:\t3583\n",
      "\t\tNo Violations Found:\t1955\n",
      "\t\tDelivered Informational Brochure:\t936\n",
      "\t\tPlumbing: Improperly installed/maintained/supplied:\t265\n",
      "\t\tFood unprotected:\t251\n",
      "\tMax length: 50\n",
      " 27. _unnamed\n",
      "\t<class 'NoneType'>\n",
      "\tNulls: True\n",
      "\tValues: \n",
      "\n",
      "Row count: 9999\n"
     ]
    }
   ],
   "source": [
    "!shuf -n 10000 abqdata.csv | csvstat"
   ]
  },
  {
   "cell_type": "code",
   "execution_count": 11,
   "metadata": {
    "collapsed": false
   },
   "outputs": [
    {
     "name": "stdout",
     "output_type": "stream",
     "text": [
      "Done.\n",
      "Done.\n"
     ]
    },
    {
     "data": {
      "text/plain": [
       "[]"
      ]
     },
     "execution_count": 11,
     "metadata": {},
     "output_type": "execute_result"
    }
   ],
   "source": [
    "%%sql\n",
    "DROP TABLE IF EXISTS abq;\n",
    "CREATE TABLE abq (\n",
    "    FACILITY_NAME VARCHAR(77),\n",
    "    FACILITY_KEY INTEGER,\n",
    "    SITE_ADDRESS VARCHAR(35),\n",
    "    CITY VARCHAR(11),\n",
    "    STATE VARCHAR(2),\n",
    "    ZIP VARCHAR(10),\n",
    "    OWNER_KEY INTEGER,\n",
    "    OWNER_NAME VARCHAR(82),\n",
    "    NATURE_OF_BUSINESS VARCHAR(25),\n",
    "    STREET_NUMBER VARCHAR(7),\n",
    "    STREET_NAME VARCHAR(24),\n",
    "    STREET_TYPE VARCHAR(4),\n",
    "    POST_DIRECTIONAL VARCHAR(2),\n",
    "    PHONE VARCHAR(15),\n",
    "    PROGRAM_CATEGORY VARCHAR(4),\n",
    "    PROGRAM_CATEGORY_DESCRIPTION VARCHAR(40),\n",
    "    INSPECTION_DATE TIMESTAMP, \n",
    "    INSPECTION_TYPE VARCHAR(40),\n",
    "    INSPECTION_DESC VARCHAR(32),\n",
    "    SERIAL_NUM VARCHAR(9),\n",
    "    ACTION_CODE VARCHAR(2),\n",
    "    ACTION_DESC VARCHAR(50),\n",
    "    RESULT_CODE VARCHAR(2),\n",
    "    RESULT_DESC VARCHAR(37),\n",
    "    VIOLATION_CODE VARCHAR(10),\n",
    "    VIOLATION_DESC VARCHAR(50),\n",
    "    INSPECTION_MEMO VARCHAR(40)\n",
    "    )"
   ]
  },
  {
   "cell_type": "code",
   "execution_count": 12,
   "metadata": {
    "collapsed": false
   },
   "outputs": [
    {
     "name": "stdout",
     "output_type": "stream",
     "text": [
      "/home/jovyan/work\r\n"
     ]
    }
   ],
   "source": [
    "!pwd"
   ]
  },
  {
   "cell_type": "code",
   "execution_count": 13,
   "metadata": {
    "collapsed": false
   },
   "outputs": [
    {
     "name": "stdout",
     "output_type": "stream",
     "text": [
      "17556 rows affected.\n"
     ]
    },
    {
     "data": {
      "text/plain": [
       "[]"
      ]
     },
     "execution_count": 13,
     "metadata": {},
     "output_type": "execute_result"
    }
   ],
   "source": [
    "%%sql\n",
    "COPY abq FROM '/home/jovyan/work/abqdata.csv'\n",
    "CSV\n",
    "HEADER\n",
    "QUOTE '\"'\n",
    "DELIMITER ',';"
   ]
  },
  {
   "cell_type": "code",
   "execution_count": 14,
   "metadata": {
    "collapsed": false
   },
   "outputs": [
    {
     "name": "stdout",
     "output_type": "stream",
     "text": [
      "1 rows affected.\n"
     ]
    },
    {
     "data": {
      "text/html": [
       "<table>\n",
       "    <tr>\n",
       "        <th>count</th>\n",
       "    </tr>\n",
       "    <tr>\n",
       "        <td>17556</td>\n",
       "    </tr>\n",
       "</table>"
      ],
      "text/plain": [
       "[(17556,)]"
      ]
     },
     "execution_count": 14,
     "metadata": {},
     "output_type": "execute_result"
    }
   ],
   "source": [
    "%%sql\n",
    "SELECT COUNT(*) FROM abq;"
   ]
  },
  {
   "cell_type": "markdown",
   "metadata": {},
   "source": [
    "## Problem 3 - explore your data (30 points)\n",
    "\n",
    "Now that the data is loaded, ask some questions of it!  Identify key variables of interest and note their ranges along with other useful descriptive statistics.  Choose and define a few lines of inquiry, execute queries for each, and describe what you find in your result sets.  Use any query techniques we've seen in class, including aggregate functions, transformations, subqueries, or others as appropriate. \n",
    "\n",
    "If you find interesting patterns, adding plots to your exploration would be useful.\n",
    "\n",
    "Insert a combination of code and text/markdown cells here to explore your data."
   ]
  },
  {
   "cell_type": "markdown",
   "metadata": {},
   "source": [
    "what the most common type of inspection was based on the ABQ data?"
   ]
  },
  {
   "cell_type": "code",
   "execution_count": 15,
   "metadata": {
    "collapsed": false
   },
   "outputs": [
    {
     "name": "stdout",
     "output_type": "stream",
     "text": [
      "15 rows affected.\n"
     ]
    },
    {
     "data": {
      "text/html": [
       "<table>\n",
       "    <tr>\n",
       "        <th>inspection_desc</th>\n",
       "        <th>count</th>\n",
       "    </tr>\n",
       "    <tr>\n",
       "        <td>ROUTINE FOOD INSPECTION</td>\n",
       "        <td>12439</td>\n",
       "    </tr>\n",
       "    <tr>\n",
       "        <td>EMERGENCY RESPONSE</td>\n",
       "        <td>1987</td>\n",
       "    </tr>\n",
       "    <tr>\n",
       "        <td>New Business Inspection</td>\n",
       "        <td>1005</td>\n",
       "    </tr>\n",
       "    <tr>\n",
       "        <td>PRE-OPENING FOOD INSPECTION</td>\n",
       "        <td>743</td>\n",
       "    </tr>\n",
       "    <tr>\n",
       "        <td>ADDITIONAL SERVICE PROVIDED</td>\n",
       "        <td>439</td>\n",
       "    </tr>\n",
       "    <tr>\n",
       "        <td>MOBILE UNIT FOOD INSPECTION</td>\n",
       "        <td>377</td>\n",
       "    </tr>\n",
       "    <tr>\n",
       "        <td>PHONE CALL</td>\n",
       "        <td>247</td>\n",
       "    </tr>\n",
       "    <tr>\n",
       "        <td>FOOD FOLLOW-UP INSPECTION</td>\n",
       "        <td>143</td>\n",
       "    </tr>\n",
       "    <tr>\n",
       "        <td>FOLLOW-UP DOCUMENTATION RECEIVED</td>\n",
       "        <td>75</td>\n",
       "    </tr>\n",
       "    <tr>\n",
       "        <td>MANAGERIAL ASSISTANCE</td>\n",
       "        <td>54</td>\n",
       "    </tr>\n",
       "    <tr>\n",
       "        <td>IMMINENT HEALTH HAZARD</td>\n",
       "        <td>36</td>\n",
       "    </tr>\n",
       "    <tr>\n",
       "        <td>FIRE CALL</td>\n",
       "        <td>5</td>\n",
       "    </tr>\n",
       "    <tr>\n",
       "        <td>PLAN REVIEW INSPECTION</td>\n",
       "        <td>4</td>\n",
       "    </tr>\n",
       "    <tr>\n",
       "        <td>COMPLAINT FOOD INSPECTION</td>\n",
       "        <td>1</td>\n",
       "    </tr>\n",
       "    <tr>\n",
       "        <td>E-MAIL</td>\n",
       "        <td>1</td>\n",
       "    </tr>\n",
       "</table>"
      ],
      "text/plain": [
       "[('ROUTINE FOOD INSPECTION', 12439),\n",
       " ('EMERGENCY RESPONSE', 1987),\n",
       " ('New Business Inspection', 1005),\n",
       " ('PRE-OPENING FOOD INSPECTION', 743),\n",
       " ('ADDITIONAL SERVICE PROVIDED', 439),\n",
       " ('MOBILE UNIT FOOD INSPECTION', 377),\n",
       " ('PHONE CALL', 247),\n",
       " ('FOOD FOLLOW-UP INSPECTION', 143),\n",
       " ('FOLLOW-UP DOCUMENTATION RECEIVED', 75),\n",
       " ('MANAGERIAL ASSISTANCE', 54),\n",
       " ('IMMINENT HEALTH HAZARD', 36),\n",
       " ('FIRE CALL', 5),\n",
       " ('PLAN REVIEW INSPECTION', 4),\n",
       " ('COMPLAINT FOOD INSPECTION', 1),\n",
       " ('E-MAIL', 1)]"
      ]
     },
     "execution_count": 15,
     "metadata": {},
     "output_type": "execute_result"
    }
   ],
   "source": [
    "%%sql\n",
    "SELECT inspection_desc, COUNT(*) AS count\n",
    "FROM abq\n",
    "GROUP BY inspection_desc\n",
    "ORDER BY count DESC"
   ]
  },
  {
   "cell_type": "markdown",
   "metadata": {},
   "source": [
    "what the most common outcome was from the inspection of the routine food inspections?"
   ]
  },
  {
   "cell_type": "code",
   "execution_count": 16,
   "metadata": {
    "collapsed": false
   },
   "outputs": [
    {
     "name": "stdout",
     "output_type": "stream",
     "text": [
      "15 rows affected.\n"
     ]
    },
    {
     "data": {
      "text/html": [
       "<table>\n",
       "    <tr>\n",
       "        <th>violation_desc</th>\n",
       "        <th>count</th>\n",
       "    </tr>\n",
       "    <tr>\n",
       "        <td>Additional Comments</td>\n",
       "        <td>5052</td>\n",
       "    </tr>\n",
       "    <tr>\n",
       "        <td>No Violations Found</td>\n",
       "        <td>3048</td>\n",
       "    </tr>\n",
       "    <tr>\n",
       "        <td>Plumbing: Improperly installed/maintained/supplied</td>\n",
       "        <td>445</td>\n",
       "    </tr>\n",
       "    <tr>\n",
       "        <td>Non-Food contact surfaces</td>\n",
       "        <td>407</td>\n",
       "    </tr>\n",
       "    <tr>\n",
       "        <td>Improper sanitizing</td>\n",
       "        <td>398</td>\n",
       "    </tr>\n",
       "    <tr>\n",
       "        <td>Floors, Walls, Ceilings</td>\n",
       "        <td>373</td>\n",
       "    </tr>\n",
       "    <tr>\n",
       "        <td>Food unprotected</td>\n",
       "        <td>370</td>\n",
       "    </tr>\n",
       "    <tr>\n",
       "        <td>Food contact surfaces</td>\n",
       "        <td>230</td>\n",
       "    </tr>\n",
       "    <tr>\n",
       "        <td>Cold Holding</td>\n",
       "        <td>178</td>\n",
       "    </tr>\n",
       "    <tr>\n",
       "        <td>Thermometers not provided, not accurate/consp</td>\n",
       "        <td>154</td>\n",
       "    </tr>\n",
       "    <tr>\n",
       "        <td>Hot Holding</td>\n",
       "        <td>152</td>\n",
       "    </tr>\n",
       "    <tr>\n",
       "        <td>Other Operations - Lighting</td>\n",
       "        <td>130</td>\n",
       "    </tr>\n",
       "    <tr>\n",
       "        <td>Food improperly labeled</td>\n",
       "        <td>112</td>\n",
       "    </tr>\n",
       "    <tr>\n",
       "        <td>Improper use of wiping cloths</td>\n",
       "        <td>108</td>\n",
       "    </tr>\n",
       "    <tr>\n",
       "        <td>Smoking, Eating, Drinking</td>\n",
       "        <td>98</td>\n",
       "    </tr>\n",
       "</table>"
      ],
      "text/plain": [
       "[('Additional Comments', 5052),\n",
       " ('No Violations Found', 3048),\n",
       " ('Plumbing: Improperly installed/maintained/supplied', 445),\n",
       " ('Non-Food contact surfaces', 407),\n",
       " ('Improper sanitizing', 398),\n",
       " ('Floors, Walls, Ceilings', 373),\n",
       " ('Food unprotected', 370),\n",
       " ('Food contact surfaces', 230),\n",
       " ('Cold Holding', 178),\n",
       " ('Thermometers not provided, not accurate/consp', 154),\n",
       " ('Hot Holding', 152),\n",
       " ('Other Operations - Lighting', 130),\n",
       " ('Food improperly labeled', 112),\n",
       " ('Improper use of wiping cloths', 108),\n",
       " ('Smoking, Eating, Drinking', 98)]"
      ]
     },
     "execution_count": 16,
     "metadata": {},
     "output_type": "execute_result"
    }
   ],
   "source": [
    "%%sql\n",
    "SELECT violation_desc, COUNT(*) AS count\n",
    "FROM abq\n",
    "WHERE inspection_desc IN (\n",
    "    SELECT inspection_desc\n",
    "    FROM abq\n",
    "    GROUP BY inspection_desc\n",
    "    ORDER BY COUNT(*) DESC\n",
    "    LIMIT 1)\n",
    "GROUP BY violation_desc\n",
    "ORDER BY count DESC\n",
    "LIMIT 15;"
   ]
  },
  {
   "cell_type": "code",
   "execution_count": 17,
   "metadata": {
    "collapsed": false
   },
   "outputs": [
    {
     "data": {
      "text/plain": [
       "<Container object of 15 artists>"
      ]
     },
     "execution_count": 17,
     "metadata": {},
     "output_type": "execute_result"
    },
    {
     "data": {
      "image/png": "[encoded data removed]",
      "text/plain": [
       "<matplotlib.figure.Figure at 0x7f997e71f390>"
      ]
     },
     "metadata": {},
     "output_type": "display_data"
    }
   ],
   "source": [
    "%matplotlib inline\n",
    "result=_\n",
    "result.bar()"
   ]
  },
  {
   "cell_type": "markdown",
   "metadata": {},
   "source": [
    "Is there any further information provided by the additional comments? "
   ]
  },
  {
   "cell_type": "code",
   "execution_count": 18,
   "metadata": {
    "collapsed": false
   },
   "outputs": [
    {
     "name": "stdout",
     "output_type": "stream",
     "text": [
      "20 rows affected.\n"
     ]
    },
    {
     "data": {
      "text/html": [
       "<table>\n",
       "    <tr>\n",
       "        <th>inspection_desc</th>\n",
       "        <th>violation_desc</th>\n",
       "        <th>inspection_memo</th>\n",
       "    </tr>\n",
       "    <tr>\n",
       "        <td>ROUTINE FOOD INSPECTION</td>\n",
       "        <td>Additional Comments</td>\n",
       "        <td>None</td>\n",
       "    </tr>\n",
       "    <tr>\n",
       "        <td>ROUTINE FOOD INSPECTION</td>\n",
       "        <td>Additional Comments</td>\n",
       "        <td>None</td>\n",
       "    </tr>\n",
       "    <tr>\n",
       "        <td>ROUTINE FOOD INSPECTION</td>\n",
       "        <td>Additional Comments</td>\n",
       "        <td>None</td>\n",
       "    </tr>\n",
       "    <tr>\n",
       "        <td>ROUTINE FOOD INSPECTION</td>\n",
       "        <td>Additional Comments</td>\n",
       "        <td>None</td>\n",
       "    </tr>\n",
       "    <tr>\n",
       "        <td>ROUTINE FOOD INSPECTION</td>\n",
       "        <td>Additional Comments</td>\n",
       "        <td>None</td>\n",
       "    </tr>\n",
       "    <tr>\n",
       "        <td>ROUTINE FOOD INSPECTION</td>\n",
       "        <td>Additional Comments</td>\n",
       "        <td>None</td>\n",
       "    </tr>\n",
       "    <tr>\n",
       "        <td>ROUTINE FOOD INSPECTION</td>\n",
       "        <td>Additional Comments</td>\n",
       "        <td>None</td>\n",
       "    </tr>\n",
       "    <tr>\n",
       "        <td>ROUTINE FOOD INSPECTION</td>\n",
       "        <td>Additional Comments</td>\n",
       "        <td>None</td>\n",
       "    </tr>\n",
       "    <tr>\n",
       "        <td>ROUTINE FOOD INSPECTION</td>\n",
       "        <td>Additional Comments</td>\n",
       "        <td>None</td>\n",
       "    </tr>\n",
       "    <tr>\n",
       "        <td>ROUTINE FOOD INSPECTION</td>\n",
       "        <td>Additional Comments</td>\n",
       "        <td>None</td>\n",
       "    </tr>\n",
       "    <tr>\n",
       "        <td>ROUTINE FOOD INSPECTION</td>\n",
       "        <td>Additional Comments</td>\n",
       "        <td>None</td>\n",
       "    </tr>\n",
       "    <tr>\n",
       "        <td>ROUTINE FOOD INSPECTION</td>\n",
       "        <td>Additional Comments</td>\n",
       "        <td>None</td>\n",
       "    </tr>\n",
       "    <tr>\n",
       "        <td>ROUTINE FOOD INSPECTION</td>\n",
       "        <td>Additional Comments</td>\n",
       "        <td>None</td>\n",
       "    </tr>\n",
       "    <tr>\n",
       "        <td>ROUTINE FOOD INSPECTION</td>\n",
       "        <td>Additional Comments</td>\n",
       "        <td>None</td>\n",
       "    </tr>\n",
       "    <tr>\n",
       "        <td>ROUTINE FOOD INSPECTION</td>\n",
       "        <td>Additional Comments</td>\n",
       "        <td>None</td>\n",
       "    </tr>\n",
       "    <tr>\n",
       "        <td>ROUTINE FOOD INSPECTION</td>\n",
       "        <td>Additional Comments</td>\n",
       "        <td>None</td>\n",
       "    </tr>\n",
       "    <tr>\n",
       "        <td>ROUTINE FOOD INSPECTION</td>\n",
       "        <td>Additional Comments</td>\n",
       "        <td>None</td>\n",
       "    </tr>\n",
       "    <tr>\n",
       "        <td>ROUTINE FOOD INSPECTION</td>\n",
       "        <td>Additional Comments</td>\n",
       "        <td>None</td>\n",
       "    </tr>\n",
       "    <tr>\n",
       "        <td>ROUTINE FOOD INSPECTION</td>\n",
       "        <td>Additional Comments</td>\n",
       "        <td>None</td>\n",
       "    </tr>\n",
       "    <tr>\n",
       "        <td>ROUTINE FOOD INSPECTION</td>\n",
       "        <td>Additional Comments</td>\n",
       "        <td>None</td>\n",
       "    </tr>\n",
       "</table>"
      ],
      "text/plain": [
       "[('ROUTINE FOOD INSPECTION', 'Additional Comments', None),\n",
       " ('ROUTINE FOOD INSPECTION', 'Additional Comments', None),\n",
       " ('ROUTINE FOOD INSPECTION', 'Additional Comments', None),\n",
       " ('ROUTINE FOOD INSPECTION', 'Additional Comments', None),\n",
       " ('ROUTINE FOOD INSPECTION', 'Additional Comments', None),\n",
       " ('ROUTINE FOOD INSPECTION', 'Additional Comments', None),\n",
       " ('ROUTINE FOOD INSPECTION', 'Additional Comments', None),\n",
       " ('ROUTINE FOOD INSPECTION', 'Additional Comments', None),\n",
       " ('ROUTINE FOOD INSPECTION', 'Additional Comments', None),\n",
       " ('ROUTINE FOOD INSPECTION', 'Additional Comments', None),\n",
       " ('ROUTINE FOOD INSPECTION', 'Additional Comments', None),\n",
       " ('ROUTINE FOOD INSPECTION', 'Additional Comments', None),\n",
       " ('ROUTINE FOOD INSPECTION', 'Additional Comments', None),\n",
       " ('ROUTINE FOOD INSPECTION', 'Additional Comments', None),\n",
       " ('ROUTINE FOOD INSPECTION', 'Additional Comments', None),\n",
       " ('ROUTINE FOOD INSPECTION', 'Additional Comments', None),\n",
       " ('ROUTINE FOOD INSPECTION', 'Additional Comments', None),\n",
       " ('ROUTINE FOOD INSPECTION', 'Additional Comments', None),\n",
       " ('ROUTINE FOOD INSPECTION', 'Additional Comments', None),\n",
       " ('ROUTINE FOOD INSPECTION', 'Additional Comments', None)]"
      ]
     },
     "execution_count": 18,
     "metadata": {},
     "output_type": "execute_result"
    }
   ],
   "source": [
    "%%sql\n",
    "SELECT inspection_desc, violation_desc, inspection_memo\n",
    "FROM abq\n",
    "WHERE inspection_desc = 'ROUTINE FOOD INSPECTION' AND violation_desc = 'Additional Comments'\n",
    "LIMIT 20;"
   ]
  },
  {
   "cell_type": "markdown",
   "metadata": {},
   "source": [
    "Can I find something interesting from the result description?"
   ]
  },
  {
   "cell_type": "code",
   "execution_count": 19,
   "metadata": {
    "collapsed": false
   },
   "outputs": [
    {
     "name": "stdout",
     "output_type": "stream",
     "text": [
      "25 rows affected.\n"
     ]
    },
    {
     "data": {
      "text/html": [
       "<table>\n",
       "    <tr>\n",
       "        <th>inspection_desc</th>\n",
       "        <th>violation_desc</th>\n",
       "        <th>result_desc</th>\n",
       "    </tr>\n",
       "    <tr>\n",
       "        <td>ROUTINE FOOD INSPECTION</td>\n",
       "        <td>Additional Comments</td>\n",
       "        <td>IN COMPLIANCE</td>\n",
       "    </tr>\n",
       "    <tr>\n",
       "        <td>ROUTINE FOOD INSPECTION</td>\n",
       "        <td>Additional Comments</td>\n",
       "        <td>IN COMPLIANCE</td>\n",
       "    </tr>\n",
       "    <tr>\n",
       "        <td>ROUTINE FOOD INSPECTION</td>\n",
       "        <td>Additional Comments</td>\n",
       "        <td>IN COMPLIANCE</td>\n",
       "    </tr>\n",
       "    <tr>\n",
       "        <td>ROUTINE FOOD INSPECTION</td>\n",
       "        <td>Additional Comments</td>\n",
       "        <td>IN COMPLIANCE</td>\n",
       "    </tr>\n",
       "    <tr>\n",
       "        <td>ROUTINE FOOD INSPECTION</td>\n",
       "        <td>Additional Comments</td>\n",
       "        <td>IN COMPLIANCE</td>\n",
       "    </tr>\n",
       "    <tr>\n",
       "        <td>ROUTINE FOOD INSPECTION</td>\n",
       "        <td>Additional Comments</td>\n",
       "        <td>IN COMPLIANCE</td>\n",
       "    </tr>\n",
       "    <tr>\n",
       "        <td>ROUTINE FOOD INSPECTION</td>\n",
       "        <td>Additional Comments</td>\n",
       "        <td>IN COMPLIANCE</td>\n",
       "    </tr>\n",
       "    <tr>\n",
       "        <td>ROUTINE FOOD INSPECTION</td>\n",
       "        <td>Additional Comments</td>\n",
       "        <td>IN COMPLIANCE</td>\n",
       "    </tr>\n",
       "    <tr>\n",
       "        <td>ROUTINE FOOD INSPECTION</td>\n",
       "        <td>Additional Comments</td>\n",
       "        <td>IN COMPLIANCE</td>\n",
       "    </tr>\n",
       "    <tr>\n",
       "        <td>ROUTINE FOOD INSPECTION</td>\n",
       "        <td>Additional Comments</td>\n",
       "        <td>IN COMPLIANCE</td>\n",
       "    </tr>\n",
       "    <tr>\n",
       "        <td>ROUTINE FOOD INSPECTION</td>\n",
       "        <td>Additional Comments</td>\n",
       "        <td>IN COMPLIANCE</td>\n",
       "    </tr>\n",
       "    <tr>\n",
       "        <td>ROUTINE FOOD INSPECTION</td>\n",
       "        <td>Additional Comments</td>\n",
       "        <td>IN COMPLIANCE</td>\n",
       "    </tr>\n",
       "    <tr>\n",
       "        <td>ROUTINE FOOD INSPECTION</td>\n",
       "        <td>Additional Comments</td>\n",
       "        <td>IN COMPLIANCE</td>\n",
       "    </tr>\n",
       "    <tr>\n",
       "        <td>ROUTINE FOOD INSPECTION</td>\n",
       "        <td>Additional Comments</td>\n",
       "        <td>IN COMPLIANCE</td>\n",
       "    </tr>\n",
       "    <tr>\n",
       "        <td>ROUTINE FOOD INSPECTION</td>\n",
       "        <td>Additional Comments</td>\n",
       "        <td>IN COMPLIANCE</td>\n",
       "    </tr>\n",
       "    <tr>\n",
       "        <td>ROUTINE FOOD INSPECTION</td>\n",
       "        <td>Additional Comments</td>\n",
       "        <td>IN COMPLIANCE</td>\n",
       "    </tr>\n",
       "    <tr>\n",
       "        <td>ROUTINE FOOD INSPECTION</td>\n",
       "        <td>Additional Comments</td>\n",
       "        <td>IN COMPLIANCE</td>\n",
       "    </tr>\n",
       "    <tr>\n",
       "        <td>ROUTINE FOOD INSPECTION</td>\n",
       "        <td>Additional Comments</td>\n",
       "        <td>IN COMPLIANCE</td>\n",
       "    </tr>\n",
       "    <tr>\n",
       "        <td>ROUTINE FOOD INSPECTION</td>\n",
       "        <td>Additional Comments</td>\n",
       "        <td>IN COMPLIANCE</td>\n",
       "    </tr>\n",
       "    <tr>\n",
       "        <td>ROUTINE FOOD INSPECTION</td>\n",
       "        <td>Additional Comments</td>\n",
       "        <td>IN COMPLIANCE</td>\n",
       "    </tr>\n",
       "    <tr>\n",
       "        <td>ROUTINE FOOD INSPECTION</td>\n",
       "        <td>Additional Comments</td>\n",
       "        <td>IN COMPLIANCE</td>\n",
       "    </tr>\n",
       "    <tr>\n",
       "        <td>ROUTINE FOOD INSPECTION</td>\n",
       "        <td>Additional Comments</td>\n",
       "        <td>IN COMPLIANCE</td>\n",
       "    </tr>\n",
       "    <tr>\n",
       "        <td>ROUTINE FOOD INSPECTION</td>\n",
       "        <td>Additional Comments</td>\n",
       "        <td>IN COMPLIANCE</td>\n",
       "    </tr>\n",
       "    <tr>\n",
       "        <td>ROUTINE FOOD INSPECTION</td>\n",
       "        <td>Additional Comments</td>\n",
       "        <td>IN COMPLIANCE</td>\n",
       "    </tr>\n",
       "    <tr>\n",
       "        <td>ROUTINE FOOD INSPECTION</td>\n",
       "        <td>Additional Comments</td>\n",
       "        <td>IN COMPLIANCE</td>\n",
       "    </tr>\n",
       "</table>"
      ],
      "text/plain": [
       "[('ROUTINE FOOD INSPECTION', 'Additional Comments', 'IN COMPLIANCE'),\n",
       " ('ROUTINE FOOD INSPECTION', 'Additional Comments', 'IN COMPLIANCE'),\n",
       " ('ROUTINE FOOD INSPECTION', 'Additional Comments', 'IN COMPLIANCE'),\n",
       " ('ROUTINE FOOD INSPECTION', 'Additional Comments', 'IN COMPLIANCE'),\n",
       " ('ROUTINE FOOD INSPECTION', 'Additional Comments', 'IN COMPLIANCE'),\n",
       " ('ROUTINE FOOD INSPECTION', 'Additional Comments', 'IN COMPLIANCE'),\n",
       " ('ROUTINE FOOD INSPECTION', 'Additional Comments', 'IN COMPLIANCE'),\n",
       " ('ROUTINE FOOD INSPECTION', 'Additional Comments', 'IN COMPLIANCE'),\n",
       " ('ROUTINE FOOD INSPECTION', 'Additional Comments', 'IN COMPLIANCE'),\n",
       " ('ROUTINE FOOD INSPECTION', 'Additional Comments', 'IN COMPLIANCE'),\n",
       " ('ROUTINE FOOD INSPECTION', 'Additional Comments', 'IN COMPLIANCE'),\n",
       " ('ROUTINE FOOD INSPECTION', 'Additional Comments', 'IN COMPLIANCE'),\n",
       " ('ROUTINE FOOD INSPECTION', 'Additional Comments', 'IN COMPLIANCE'),\n",
       " ('ROUTINE FOOD INSPECTION', 'Additional Comments', 'IN COMPLIANCE'),\n",
       " ('ROUTINE FOOD INSPECTION', 'Additional Comments', 'IN COMPLIANCE'),\n",
       " ('ROUTINE FOOD INSPECTION', 'Additional Comments', 'IN COMPLIANCE'),\n",
       " ('ROUTINE FOOD INSPECTION', 'Additional Comments', 'IN COMPLIANCE'),\n",
       " ('ROUTINE FOOD INSPECTION', 'Additional Comments', 'IN COMPLIANCE'),\n",
       " ('ROUTINE FOOD INSPECTION', 'Additional Comments', 'IN COMPLIANCE'),\n",
       " ('ROUTINE FOOD INSPECTION', 'Additional Comments', 'IN COMPLIANCE'),\n",
       " ('ROUTINE FOOD INSPECTION', 'Additional Comments', 'IN COMPLIANCE'),\n",
       " ('ROUTINE FOOD INSPECTION', 'Additional Comments', 'IN COMPLIANCE'),\n",
       " ('ROUTINE FOOD INSPECTION', 'Additional Comments', 'IN COMPLIANCE'),\n",
       " ('ROUTINE FOOD INSPECTION', 'Additional Comments', 'IN COMPLIANCE'),\n",
       " ('ROUTINE FOOD INSPECTION', 'Additional Comments', 'IN COMPLIANCE')]"
      ]
     },
     "execution_count": 19,
     "metadata": {},
     "output_type": "execute_result"
    }
   ],
   "source": [
    "%%sql\n",
    "SELECT inspection_desc, violation_desc, result_desc\n",
    "FROM abq\n",
    "WHERE inspection_desc = 'ROUTINE FOOD INSPECTION' AND violation_desc = 'Additional Comments'\n",
    "LIMIT 25;"
   ]
  },
  {
   "cell_type": "markdown",
   "metadata": {},
   "source": [
    "## Bonus (10 points)\n",
    "\n",
    "We have seen a few simple techniques for normalizing data in class.  Choose a column or set of columns that might be redundant and normalize them out to another table:\n",
    "\n",
    "* Identify the columns to normalize in the source data table\n",
    "* Create one or more new tables to hold the normalized records\n",
    "* Extract data into the new tables\n",
    "* Re-insert the new foreign key references from the new table into the source table"
   ]
  },
  {
   "cell_type": "markdown",
   "metadata": {},
   "source": [
    "Create a new table "
   ]
  },
  {
   "cell_type": "code",
   "execution_count": 20,
   "metadata": {
    "collapsed": false
   },
   "outputs": [
    {
     "name": "stdout",
     "output_type": "stream",
     "text": [
      "2 rows affected.\n"
     ]
    },
    {
     "data": {
      "text/html": [
       "<table>\n",
       "    <tr>\n",
       "        <th>count</th>\n",
       "        <th>attribute_name</th>\n",
       "    </tr>\n",
       "    <tr>\n",
       "        <td>25</td>\n",
       "        <td>program_category</td>\n",
       "    </tr>\n",
       "    <tr>\n",
       "        <td>25</td>\n",
       "        <td>program_category_description</td>\n",
       "    </tr>\n",
       "</table>"
      ],
      "text/plain": [
       "[(25, 'program_category'), (25, 'program_category_description')]"
      ]
     },
     "execution_count": 20,
     "metadata": {},
     "output_type": "execute_result"
    }
   ],
   "source": [
    "%%sql\n",
    "SELECT COUNT(*),'program_category' as attribute_name\n",
    "FROM (SELECT DISTINCT program_category\n",
    "     FROM abq)table1\n",
    "UNION\n",
    "SELECT COUNT(*),'program_category_description' as attribute_name\n",
    "FROM (SELECT DISTINCT program_category_description\n",
    "     FROM abq)table2"
   ]
  },
  {
   "cell_type": "code",
   "execution_count": 21,
   "metadata": {
    "collapsed": false
   },
   "outputs": [
    {
     "name": "stdout",
     "output_type": "stream",
     "text": [
      "25 rows affected.\n"
     ]
    },
    {
     "data": {
      "text/html": [
       "<table>\n",
       "    <tr>\n",
       "        <th>program_category_description</th>\n",
       "        <th>program_category</th>\n",
       "        <th>program_category_description_1</th>\n",
       "    </tr>\n",
       "    <tr>\n",
       "        <td>0605 Seasonal Location -Food Service Permit</td>\n",
       "        <td>0605</td>\n",
       "        <td>Seasonal Location -Food Service Permit</td>\n",
       "    </tr>\n",
       "    <tr>\n",
       "        <td>0404 Institutional Kitchen</td>\n",
       "        <td>0404</td>\n",
       "        <td>Institutional Kitchen</td>\n",
       "    </tr>\n",
       "    <tr>\n",
       "        <td>None</td>\n",
       "        <td>0411</td>\n",
       "        <td>None</td>\n",
       "    </tr>\n",
       "    <tr>\n",
       "        <td>1001 Mobile Pre-Packaged</td>\n",
       "        <td>1001</td>\n",
       "        <td>Mobile Pre-Packaged</td>\n",
       "    </tr>\n",
       "    <tr>\n",
       "        <td>0607 Retail - Self Service &amp; Prepackage Foods</td>\n",
       "        <td>0607</td>\n",
       "        <td>Retail - Self Service &amp; Prepackage Foods</td>\n",
       "    </tr>\n",
       "    <tr>\n",
       "        <td>0406 Food Service Establishment</td>\n",
       "        <td>0406</td>\n",
       "        <td>Food Service Establishment</td>\n",
       "    </tr>\n",
       "    <tr>\n",
       "        <td>0407 Limited Menu</td>\n",
       "        <td>0407</td>\n",
       "        <td>Limited Menu</td>\n",
       "    </tr>\n",
       "    <tr>\n",
       "        <td>0602 Meat Market</td>\n",
       "        <td>0602</td>\n",
       "        <td>Meat Market</td>\n",
       "    </tr>\n",
       "    <tr>\n",
       "        <td>0408 School</td>\n",
       "        <td>0408</td>\n",
       "        <td>School</td>\n",
       "    </tr>\n",
       "    <tr>\n",
       "        <td>0609 Retail - Meat/Seafood</td>\n",
       "        <td>0609</td>\n",
       "        <td>Retail - Meat/Seafood</td>\n",
       "    </tr>\n",
       "    <tr>\n",
       "        <td>0610 Retail - Specialty Food Permit</td>\n",
       "        <td>0610</td>\n",
       "        <td>Retail - Specialty Food Permit</td>\n",
       "    </tr>\n",
       "    <tr>\n",
       "        <td>0405 Food Processor</td>\n",
       "        <td>0405</td>\n",
       "        <td>Food Processor</td>\n",
       "    </tr>\n",
       "    <tr>\n",
       "        <td>0410 NOT FOR PROFIT KITCHEN PERMIT</td>\n",
       "        <td>0410</td>\n",
       "        <td>NOT FOR PROFIT KITCHEN PERMIT</td>\n",
       "    </tr>\n",
       "    <tr>\n",
       "        <td>0606 Retail - Prepackage Only</td>\n",
       "        <td>0606</td>\n",
       "        <td>Retail - Prepackage Only</td>\n",
       "    </tr>\n",
       "    <tr>\n",
       "        <td>0604 Seasonal Venue -Fixed Location</td>\n",
       "        <td>0604</td>\n",
       "        <td>Seasonal Venue -Fixed Location</td>\n",
       "    </tr>\n",
       "    <tr>\n",
       "        <td>1002 Mobile Food Unit</td>\n",
       "        <td>1002</td>\n",
       "        <td>Mobile Food Unit</td>\n",
       "    </tr>\n",
       "    <tr>\n",
       "        <td>0603 Warehouse</td>\n",
       "        <td>0603</td>\n",
       "        <td>Warehouse</td>\n",
       "    </tr>\n",
       "    <tr>\n",
       "        <td>1000 Frozen Food Truck</td>\n",
       "        <td>1000</td>\n",
       "        <td>Frozen Food Truck</td>\n",
       "    </tr>\n",
       "    <tr>\n",
       "        <td>0608 Retail - Deli</td>\n",
       "        <td>0608</td>\n",
       "        <td>Retail - Deli</td>\n",
       "    </tr>\n",
       "    <tr>\n",
       "        <td>0409 Non School</td>\n",
       "        <td>0409</td>\n",
       "        <td>Non School</td>\n",
       "    </tr>\n",
       "    <tr>\n",
       "        <td>0402 Childcare</td>\n",
       "        <td>0402</td>\n",
       "        <td>Childcare</td>\n",
       "    </tr>\n",
       "    <tr>\n",
       "        <td>0601 Retail -Grocery</td>\n",
       "        <td>0601</td>\n",
       "        <td>Retail -Grocery</td>\n",
       "    </tr>\n",
       "    <tr>\n",
       "        <td>0501 Bar</td>\n",
       "        <td>0501</td>\n",
       "        <td>Bar</td>\n",
       "    </tr>\n",
       "    <tr>\n",
       "        <td>0403 Bakery</td>\n",
       "        <td>0403</td>\n",
       "        <td>Bakery</td>\n",
       "    </tr>\n",
       "    <tr>\n",
       "        <td>1003 Food/Drink Vending - Up to 15 Units</td>\n",
       "        <td>1003</td>\n",
       "        <td>Food/Drink Vending - Up to 15 Units</td>\n",
       "    </tr>\n",
       "</table>"
      ],
      "text/plain": [
       "[('0605 Seasonal Location -Food Service Permit', '0605', 'Seasonal Location -Food Service Permit'),\n",
       " ('0404 Institutional Kitchen', '0404', 'Institutional Kitchen'),\n",
       " (None, '0411', None),\n",
       " ('1001 Mobile Pre-Packaged', '1001', 'Mobile Pre-Packaged'),\n",
       " ('0607 Retail - Self Service & Prepackage Foods', '0607', 'Retail - Self Service & Prepackage Foods'),\n",
       " ('0406 Food Service Establishment', '0406', 'Food Service Establishment'),\n",
       " ('0407 Limited Menu', '0407', 'Limited Menu'),\n",
       " ('0602 Meat Market', '0602', 'Meat Market'),\n",
       " ('0408 School', '0408', 'School'),\n",
       " ('0609 Retail - Meat/Seafood', '0609', 'Retail - Meat/Seafood'),\n",
       " ('0610 Retail - Specialty Food Permit', '0610', 'Retail - Specialty Food Permit'),\n",
       " ('0405 Food Processor', '0405', 'Food Processor'),\n",
       " ('0410 NOT FOR PROFIT KITCHEN PERMIT', '0410', 'NOT FOR PROFIT KITCHEN PERMIT'),\n",
       " ('0606 Retail - Prepackage Only', '0606', 'Retail - Prepackage Only'),\n",
       " ('0604 Seasonal Venue -Fixed Location', '0604', 'Seasonal Venue -Fixed Location'),\n",
       " ('1002 Mobile Food Unit', '1002', 'Mobile Food Unit'),\n",
       " ('0603 Warehouse', '0603', 'Warehouse'),\n",
       " ('1000 Frozen Food Truck', '1000', 'Frozen Food Truck'),\n",
       " ('0608 Retail - Deli', '0608', 'Retail - Deli'),\n",
       " ('0409 Non School', '0409', 'Non School'),\n",
       " ('0402 Childcare', '0402', 'Childcare'),\n",
       " ('0601 Retail -Grocery', '0601', 'Retail -Grocery'),\n",
       " ('0501 Bar', '0501', 'Bar'),\n",
       " ('0403 Bakery', '0403', 'Bakery'),\n",
       " ('1003 Food/Drink Vending - Up to 15 Units', '1003', 'Food/Drink Vending - Up to 15 Units')]"
      ]
     },
     "execution_count": 21,
     "metadata": {},
     "output_type": "execute_result"
    }
   ],
   "source": [
    "%%sql\n",
    "SELECT DISTINCT PROGRAM_CATEGORY  || ' ' || PROGRAM_CATEGORY_DESCRIPTION AS PROGRAM_CATEGORY_DESCRIPTION, PROGRAM_CATEGORY, PROGRAM_CATEGORY_DESCRIPTION\n",
    "FROM abq;"
   ]
  },
  {
   "cell_type": "markdown",
   "metadata": {},
   "source": [
    "So, there is a one-to-one relationship between program_category and program_category_description."
   ]
  },
  {
   "cell_type": "code",
   "execution_count": 22,
   "metadata": {
    "collapsed": false
   },
   "outputs": [
    {
     "name": "stdout",
     "output_type": "stream",
     "text": [
      "Done.\n",
      "Done.\n"
     ]
    },
    {
     "data": {
      "text/plain": [
       "[]"
      ]
     },
     "execution_count": 22,
     "metadata": {},
     "output_type": "execute_result"
    }
   ],
   "source": [
    "%%sql\n",
    "DROP TABLE IF EXISTS program_category;\n",
    "CREATE TABLE program_category (\n",
    "    program_category VARCHAR(4),\n",
    "    program_category_description VARCHAR(40),\n",
    "    PRIMARY KEY (program_category)\n",
    ")"
   ]
  },
  {
   "cell_type": "code",
   "execution_count": 23,
   "metadata": {
    "collapsed": false
   },
   "outputs": [
    {
     "name": "stdout",
     "output_type": "stream",
     "text": [
      "25 rows affected.\n"
     ]
    },
    {
     "data": {
      "text/plain": [
       "[]"
      ]
     },
     "execution_count": 23,
     "metadata": {},
     "output_type": "execute_result"
    }
   ],
   "source": [
    "%%sql\n",
    "INSERT INTO program_category (program_category, program_category_description)\n",
    "SELECT DISTINCT program_category, program_category_description\n",
    "FROM abq"
   ]
  },
  {
   "cell_type": "code",
   "execution_count": 24,
   "metadata": {
    "collapsed": false
   },
   "outputs": [
    {
     "name": "stdout",
     "output_type": "stream",
     "text": [
      "Done.\n"
     ]
    },
    {
     "data": {
      "text/plain": [
       "[]"
      ]
     },
     "execution_count": 24,
     "metadata": {},
     "output_type": "execute_result"
    }
   ],
   "source": [
    "%%sql\n",
    "ALTER TABLE abq\n",
    "DROP COLUMN program_category_description "
   ]
  },
  {
   "cell_type": "code",
   "execution_count": 25,
   "metadata": {
    "collapsed": false
   },
   "outputs": [
    {
     "name": "stdout",
     "output_type": "stream",
     "text": [
      "Done.\n"
     ]
    },
    {
     "data": {
      "text/plain": [
       "[]"
      ]
     },
     "execution_count": 25,
     "metadata": {},
     "output_type": "execute_result"
    }
   ],
   "source": [
    "%%sql\n",
    "ALTER TABLE abq\n",
    "ADD CONSTRAINT FK_program_category FOREIGN KEY (program_category)\n",
    "REFERENCES program_category(program_category) ON DELETE NO ACTION"
   ]
  },
  {
   "cell_type": "code",
   "execution_count": 26,
   "metadata": {
    "collapsed": false
   },
   "outputs": [
    {
     "name": "stdout",
     "output_type": "stream",
     "text": [
      "2 rows affected.\n"
     ]
    },
    {
     "data": {
      "text/html": [
       "<table>\n",
       "    <tr>\n",
       "        <th>count</th>\n",
       "        <th>attribute_name</th>\n",
       "    </tr>\n",
       "    <tr>\n",
       "        <td>19</td>\n",
       "        <td>result_code</td>\n",
       "    </tr>\n",
       "    <tr>\n",
       "        <td>19</td>\n",
       "        <td>result_desc</td>\n",
       "    </tr>\n",
       "</table>"
      ],
      "text/plain": [
       "[(19, 'result_code'), (19, 'result_desc')]"
      ]
     },
     "execution_count": 26,
     "metadata": {},
     "output_type": "execute_result"
    }
   ],
   "source": [
    "%%sql\n",
    "SELECT COUNT(*),'result_code' as attribute_name\n",
    "FROM (SELECT DISTINCT result_code\n",
    "     FROM abq)table1\n",
    "UNION\n",
    "SELECT COUNT(*),'result_desc' as attribute_name\n",
    "FROM (SELECT DISTINCT result_desc\n",
    "     FROM abq)table2"
   ]
  },
  {
   "cell_type": "code",
   "execution_count": 27,
   "metadata": {
    "collapsed": false
   },
   "outputs": [
    {
     "name": "stdout",
     "output_type": "stream",
     "text": [
      "5 rows affected.\n"
     ]
    },
    {
     "data": {
      "text/html": [
       "<table>\n",
       "    <tr>\n",
       "        <th>code_result</th>\n",
       "        <th>result_code</th>\n",
       "        <th>result_desc</th>\n",
       "    </tr>\n",
       "    <tr>\n",
       "        <td>22 OUT OF BUSINESS</td>\n",
       "        <td>22</td>\n",
       "        <td>OUT OF BUSINESS</td>\n",
       "    </tr>\n",
       "    <tr>\n",
       "        <td>11 FACILITY CLOSED AT TIME OF INSPECTION</td>\n",
       "        <td>11</td>\n",
       "        <td>FACILITY CLOSED AT TIME OF INSPECTION</td>\n",
       "    </tr>\n",
       "    <tr>\n",
       "        <td>18 TRAINING RECEIVED</td>\n",
       "        <td>18</td>\n",
       "        <td>TRAINING RECEIVED</td>\n",
       "    </tr>\n",
       "    <tr>\n",
       "        <td>06 UPGRADE</td>\n",
       "        <td>06</td>\n",
       "        <td>UPGRADE</td>\n",
       "    </tr>\n",
       "    <tr>\n",
       "        <td>00 NOT APPLICABLE</td>\n",
       "        <td>00</td>\n",
       "        <td>NOT APPLICABLE</td>\n",
       "    </tr>\n",
       "</table>"
      ],
      "text/plain": [
       "[('22 OUT OF BUSINESS', '22', 'OUT OF BUSINESS'),\n",
       " ('11 FACILITY CLOSED AT TIME OF INSPECTION', '11', 'FACILITY CLOSED AT TIME OF INSPECTION'),\n",
       " ('18 TRAINING RECEIVED', '18', 'TRAINING RECEIVED'),\n",
       " ('06 UPGRADE', '06', 'UPGRADE'),\n",
       " ('00 NOT APPLICABLE', '00', 'NOT APPLICABLE')]"
      ]
     },
     "execution_count": 27,
     "metadata": {},
     "output_type": "execute_result"
    }
   ],
   "source": [
    "%%sql\n",
    "SELECT DISTINCT RESULT_CODE  || ' ' || RESULT_DESC AS CODE_RESULT, RESULT_CODE, RESULT_DESC\n",
    "FROM abq\n",
    "LIMIT 5;"
   ]
  },
  {
   "cell_type": "markdown",
   "metadata": {},
   "source": [
    "There is a one-to-one relationship between result_code and result_desc"
   ]
  },
  {
   "cell_type": "code",
   "execution_count": 28,
   "metadata": {
    "collapsed": false
   },
   "outputs": [
    {
     "name": "stdout",
     "output_type": "stream",
     "text": [
      "Done.\n",
      "Done.\n"
     ]
    },
    {
     "data": {
      "text/plain": [
       "[]"
      ]
     },
     "execution_count": 28,
     "metadata": {},
     "output_type": "execute_result"
    }
   ],
   "source": [
    "%%sql\n",
    "DROP TABLE IF EXISTS result;\n",
    "CREATE TABLE result (\n",
    "    result_code VARCHAR(2),\n",
    "    result_desc VARCHAR(37),\n",
    "    PRIMARY KEY (result_code)\n",
    ")"
   ]
  },
  {
   "cell_type": "code",
   "execution_count": 29,
   "metadata": {
    "collapsed": false
   },
   "outputs": [
    {
     "name": "stdout",
     "output_type": "stream",
     "text": [
      "19 rows affected.\n"
     ]
    },
    {
     "data": {
      "text/plain": [
       "[]"
      ]
     },
     "execution_count": 29,
     "metadata": {},
     "output_type": "execute_result"
    }
   ],
   "source": [
    "%%sql\n",
    "INSERT INTO result (result_code, result_desc)\n",
    "SELECT DISTINCT result_code, result_desc\n",
    "FROM abq"
   ]
  },
  {
   "cell_type": "code",
   "execution_count": 30,
   "metadata": {
    "collapsed": false
   },
   "outputs": [
    {
     "name": "stdout",
     "output_type": "stream",
     "text": [
      "5 rows affected.\n"
     ]
    },
    {
     "data": {
      "text/html": [
       "<table>\n",
       "    <tr>\n",
       "        <th>result_code</th>\n",
       "        <th>result_desc</th>\n",
       "    </tr>\n",
       "    <tr>\n",
       "        <td>18</td>\n",
       "        <td>TRAINING RECEIVED</td>\n",
       "    </tr>\n",
       "    <tr>\n",
       "        <td>12</td>\n",
       "        <td>PERMIT REINSTATEMENT</td>\n",
       "    </tr>\n",
       "    <tr>\n",
       "        <td>11</td>\n",
       "        <td>FACILITY CLOSED AT TIME OF INSPECTION</td>\n",
       "    </tr>\n",
       "    <tr>\n",
       "        <td>20</td>\n",
       "        <td>EMBARGO</td>\n",
       "    </tr>\n",
       "    <tr>\n",
       "        <td>03</td>\n",
       "        <td>IN COMPLIANCE</td>\n",
       "    </tr>\n",
       "</table>"
      ],
      "text/plain": [
       "[('18', 'TRAINING RECEIVED'),\n",
       " ('12', 'PERMIT REINSTATEMENT'),\n",
       " ('11', 'FACILITY CLOSED AT TIME OF INSPECTION'),\n",
       " ('20', 'EMBARGO'),\n",
       " ('03', 'IN COMPLIANCE')]"
      ]
     },
     "execution_count": 30,
     "metadata": {},
     "output_type": "execute_result"
    }
   ],
   "source": [
    "%%sql\n",
    "SELECT *\n",
    "FROM result\n",
    "LIMIT 5"
   ]
  },
  {
   "cell_type": "code",
   "execution_count": 31,
   "metadata": {
    "collapsed": false
   },
   "outputs": [
    {
     "name": "stdout",
     "output_type": "stream",
     "text": [
      "Done.\n"
     ]
    },
    {
     "data": {
      "text/plain": [
       "[]"
      ]
     },
     "execution_count": 31,
     "metadata": {},
     "output_type": "execute_result"
    }
   ],
   "source": [
    "%%sql\n",
    "ALTER TABLE abq\n",
    "ADD CONSTRAINT FK_result FOREIGN KEY (result_code)\n",
    "REFERENCES result(result_code) ON DELETE NO ACTION"
   ]
  },
  {
   "cell_type": "code",
   "execution_count": 32,
   "metadata": {
    "collapsed": false
   },
   "outputs": [
    {
     "name": "stdout",
     "output_type": "stream",
     "text": [
      "2 rows affected.\n"
     ]
    },
    {
     "data": {
      "text/html": [
       "<table>\n",
       "    <tr>\n",
       "        <th>count</th>\n",
       "        <th>attribute_name</th>\n",
       "    </tr>\n",
       "    <tr>\n",
       "        <td>8</td>\n",
       "        <td>action_code</td>\n",
       "    </tr>\n",
       "    <tr>\n",
       "        <td>8</td>\n",
       "        <td>action_desc</td>\n",
       "    </tr>\n",
       "</table>"
      ],
      "text/plain": [
       "[(8, 'action_code'), (8, 'action_desc')]"
      ]
     },
     "execution_count": 32,
     "metadata": {},
     "output_type": "execute_result"
    }
   ],
   "source": [
    "%%sql\n",
    "SELECT COUNT(*),'action_code' as attribute_name\n",
    "FROM (SELECT DISTINCT action_code\n",
    "     FROM abq)table1\n",
    "UNION\n",
    "SELECT COUNT(*),'action_desc' as attribute_name\n",
    "FROM (SELECT DISTINCT action_desc\n",
    "     FROM abq)table2"
   ]
  },
  {
   "cell_type": "code",
   "execution_count": 33,
   "metadata": {
    "collapsed": false
   },
   "outputs": [
    {
     "name": "stdout",
     "output_type": "stream",
     "text": [
      "8 rows affected.\n"
     ]
    },
    {
     "data": {
      "text/html": [
       "<table>\n",
       "    <tr>\n",
       "        <th>code_action</th>\n",
       "        <th>action_code</th>\n",
       "        <th>action_desc</th>\n",
       "    </tr>\n",
       "    <tr>\n",
       "        <td>12 NO PERMIT APPLICATION ISSUED</td>\n",
       "        <td>12</td>\n",
       "        <td>NO PERMIT APPLICATION ISSUED</td>\n",
       "    </tr>\n",
       "    <tr>\n",
       "        <td>03 FACILITY CLOSED AT TIME OF SERVICE</td>\n",
       "        <td>03</td>\n",
       "        <td>FACILITY CLOSED AT TIME OF SERVICE</td>\n",
       "    </tr>\n",
       "    <tr>\n",
       "        <td>10 ANNUAL STICKER NOT ISSUED</td>\n",
       "        <td>10</td>\n",
       "        <td>ANNUAL STICKER NOT ISSUED</td>\n",
       "    </tr>\n",
       "    <tr>\n",
       "        <td>09 ANNUAL STICKER ISSUED</td>\n",
       "        <td>09</td>\n",
       "        <td>ANNUAL STICKER ISSUED</td>\n",
       "    </tr>\n",
       "    <tr>\n",
       "        <td>06 UNSATISFACTORY</td>\n",
       "        <td>06</td>\n",
       "        <td>UNSATISFACTORY</td>\n",
       "    </tr>\n",
       "    <tr>\n",
       "        <td>17 FOOD PERMIT SUSPENSION</td>\n",
       "        <td>17</td>\n",
       "        <td>FOOD PERMIT SUSPENSION</td>\n",
       "    </tr>\n",
       "    <tr>\n",
       "        <td>11 APPROVED</td>\n",
       "        <td>11</td>\n",
       "        <td>APPROVED</td>\n",
       "    </tr>\n",
       "    <tr>\n",
       "        <td>00 NON-GRADED</td>\n",
       "        <td>00</td>\n",
       "        <td>NON-GRADED</td>\n",
       "    </tr>\n",
       "</table>"
      ],
      "text/plain": [
       "[('12 NO PERMIT APPLICATION ISSUED', '12', 'NO PERMIT APPLICATION ISSUED'),\n",
       " ('03 FACILITY CLOSED AT TIME OF SERVICE', '03', 'FACILITY CLOSED AT TIME OF SERVICE'),\n",
       " ('10 ANNUAL STICKER NOT ISSUED', '10', 'ANNUAL STICKER NOT ISSUED'),\n",
       " ('09 ANNUAL STICKER ISSUED', '09', 'ANNUAL STICKER ISSUED'),\n",
       " ('06 UNSATISFACTORY', '06', 'UNSATISFACTORY'),\n",
       " ('17 FOOD PERMIT SUSPENSION', '17', 'FOOD PERMIT SUSPENSION'),\n",
       " ('11 APPROVED', '11', 'APPROVED'),\n",
       " ('00 NON-GRADED', '00', 'NON-GRADED')]"
      ]
     },
     "execution_count": 33,
     "metadata": {},
     "output_type": "execute_result"
    }
   ],
   "source": [
    "%%sql\n",
    "SELECT DISTINCT ACTION_CODE  || ' ' || ACTION_DESC AS CODE_ACTION, ACTION_CODE, ACTION_DESC\n",
    "FROM abq;"
   ]
  },
  {
   "cell_type": "code",
   "execution_count": 34,
   "metadata": {
    "collapsed": false
   },
   "outputs": [
    {
     "name": "stdout",
     "output_type": "stream",
     "text": [
      "Done.\n",
      "Done.\n"
     ]
    },
    {
     "data": {
      "text/plain": [
       "[]"
      ]
     },
     "execution_count": 34,
     "metadata": {},
     "output_type": "execute_result"
    }
   ],
   "source": [
    "%%sql\n",
    "DROP TABLE IF EXISTS action;\n",
    "CREATE TABLE action (\n",
    "    action_code VARCHAR(2),\n",
    "    action_desc VARCHAR(34),\n",
    "    PRIMARY KEY (action_code)\n",
    ")"
   ]
  },
  {
   "cell_type": "code",
   "execution_count": 35,
   "metadata": {
    "collapsed": false
   },
   "outputs": [
    {
     "name": "stdout",
     "output_type": "stream",
     "text": [
      "8 rows affected.\n"
     ]
    },
    {
     "data": {
      "text/plain": [
       "[]"
      ]
     },
     "execution_count": 35,
     "metadata": {},
     "output_type": "execute_result"
    }
   ],
   "source": [
    "%%sql\n",
    "INSERT INTO action (action_code, action_desc)\n",
    "SELECT DISTINCT action_code, action_desc\n",
    "FROM abq"
   ]
  },
  {
   "cell_type": "code",
   "execution_count": 36,
   "metadata": {
    "collapsed": false
   },
   "outputs": [
    {
     "name": "stdout",
     "output_type": "stream",
     "text": [
      "5 rows affected.\n"
     ]
    },
    {
     "data": {
      "text/html": [
       "<table>\n",
       "    <tr>\n",
       "        <th>action_code</th>\n",
       "        <th>action_desc</th>\n",
       "    </tr>\n",
       "    <tr>\n",
       "        <td>00</td>\n",
       "        <td>NON-GRADED</td>\n",
       "    </tr>\n",
       "    <tr>\n",
       "        <td>10</td>\n",
       "        <td>ANNUAL STICKER NOT ISSUED</td>\n",
       "    </tr>\n",
       "    <tr>\n",
       "        <td>17</td>\n",
       "        <td>FOOD PERMIT SUSPENSION</td>\n",
       "    </tr>\n",
       "    <tr>\n",
       "        <td>03</td>\n",
       "        <td>FACILITY CLOSED AT TIME OF SERVICE</td>\n",
       "    </tr>\n",
       "    <tr>\n",
       "        <td>09</td>\n",
       "        <td>ANNUAL STICKER ISSUED</td>\n",
       "    </tr>\n",
       "</table>"
      ],
      "text/plain": [
       "[('00', 'NON-GRADED'),\n",
       " ('10', 'ANNUAL STICKER NOT ISSUED'),\n",
       " ('17', 'FOOD PERMIT SUSPENSION'),\n",
       " ('03', 'FACILITY CLOSED AT TIME OF SERVICE'),\n",
       " ('09', 'ANNUAL STICKER ISSUED')]"
      ]
     },
     "execution_count": 36,
     "metadata": {},
     "output_type": "execute_result"
    }
   ],
   "source": [
    "%%sql\n",
    "SELECT *\n",
    "FROM action\n",
    "LIMIT 5"
   ]
  },
  {
   "cell_type": "code",
   "execution_count": 37,
   "metadata": {
    "collapsed": false
   },
   "outputs": [
    {
     "name": "stdout",
     "output_type": "stream",
     "text": [
      "Done.\n"
     ]
    },
    {
     "data": {
      "text/plain": [
       "[]"
      ]
     },
     "execution_count": 37,
     "metadata": {},
     "output_type": "execute_result"
    }
   ],
   "source": [
    "%%sql\n",
    "ALTER TABLE abq\n",
    "ADD CONSTRAINT FK_action FOREIGN KEY (action_code)\n",
    "REFERENCES action(action_code) ON DELETE NO ACTION"
   ]
  },
  {
   "cell_type": "code",
   "execution_count": 38,
   "metadata": {
    "collapsed": false
   },
   "outputs": [
    {
     "name": "stdout",
     "output_type": "stream",
     "text": [
      "6 rows affected.\n"
     ]
    },
    {
     "data": {
      "text/html": [
       "<table>\n",
       "    <tr>\n",
       "        <th>constraint_name</th>\n",
       "        <th>table_name</th>\n",
       "        <th>column_name</th>\n",
       "    </tr>\n",
       "    <tr>\n",
       "        <td>fk_program_category</td>\n",
       "        <td>abq</td>\n",
       "        <td>program_category</td>\n",
       "    </tr>\n",
       "    <tr>\n",
       "        <td>fk_action</td>\n",
       "        <td>abq</td>\n",
       "        <td>action_code</td>\n",
       "    </tr>\n",
       "    <tr>\n",
       "        <td>fk_result</td>\n",
       "        <td>abq</td>\n",
       "        <td>result_code</td>\n",
       "    </tr>\n",
       "    <tr>\n",
       "        <td>program_category_pkey</td>\n",
       "        <td>program_category</td>\n",
       "        <td>program_category</td>\n",
       "    </tr>\n",
       "    <tr>\n",
       "        <td>result_pkey</td>\n",
       "        <td>result</td>\n",
       "        <td>result_code</td>\n",
       "    </tr>\n",
       "    <tr>\n",
       "        <td>action_pkey</td>\n",
       "        <td>action</td>\n",
       "        <td>action_code</td>\n",
       "    </tr>\n",
       "</table>"
      ],
      "text/plain": [
       "[('fk_program_category', 'abq', 'program_category'),\n",
       " ('fk_action', 'abq', 'action_code'),\n",
       " ('fk_result', 'abq', 'result_code'),\n",
       " ('program_category_pkey', 'program_category', 'program_category'),\n",
       " ('result_pkey', 'result', 'result_code'),\n",
       " ('action_pkey', 'action', 'action_code')]"
      ]
     },
     "execution_count": 38,
     "metadata": {},
     "output_type": "execute_result"
    }
   ],
   "source": [
    "%%sql\n",
    "SELECT CONSTRAINT_NAME, TABLE_NAME, COLUMN_NAME\n",
    "FROM INFORMATION_SCHEMA.KEY_COLUMN_USAGE\n",
    "WHERE TABLE_CATALOG = 'exer4'"
   ]
  },
  {
   "cell_type": "code",
   "execution_count": null,
   "metadata": {
    "collapsed": true
   },
   "outputs": [],
   "source": []
  }
 ],
 "metadata": {
  "anaconda-cloud": {},
  "kernelspec": {
   "display_name": "Python [Root]",
   "language": "python",
   "name": "Python [Root]"
  },
  "language_info": {
   "codemirror_mode": {
    "name": "ipython",
    "version": 2
   },
   "file_extension": ".py",
   "mimetype": "text/x-python",
   "name": "python",
   "nbconvert_exporter": "python",
   "pygments_lexer": "ipython2",
   "version": "2.7.12"
  }
 },
 "nbformat": 4,
 "nbformat_minor": 1
}
